{
 "cells": [
  {
   "cell_type": "code",
   "execution_count": 1,
   "metadata": {},
   "outputs": [],
   "source": [
    "import numpy as np\n",
    "import pandas as pd\n",
    "import matplotlib.pyplot as plt\n",
    "import seaborn as sns\n",
    "pd.set_option('display.max_columns', None)\n",
    "import warnings\n",
    "warnings.filterwarnings('ignore')\n",
    "\n",
    "from sklearn.metrics import accuracy_score, confusion_matrix, classification_report, roc_auc_score, roc_curve, auc\n",
    "from sklearn.preprocessing import StandardScaler, LabelEncoder, OneHotEncoder\n",
    "from sklearn.model_selection import train_test_split\n",
    "from sklearn.compose import ColumnTransformer\n",
    "from sklearn.pipeline import Pipeline\n",
    "\n",
    "from sklearn.ensemble import GradientBoostingClassifier, RandomForestClassifier, AdaBoostClassifier, BaggingClassifier, ExtraTreesClassifier, StackingClassifier\n",
    "from sklearn.linear_model import LogisticRegression, SGDClassifier, RidgeClassifier\n",
    "from sklearn.tree import DecisionTreeClassifier\n",
    "from sklearn.neighbors import KNeighborsClassifier\n",
    "from sklearn.neural_network import MLPClassifier\n",
    "from sklearn.svm import SVC\n",
    "import lightgbm as lgb\n",
    "import catboost as cb\n",
    "import xgboost as xgb"
   ]
  },
  {
   "cell_type": "markdown",
   "metadata": {},
   "source": [
    "## Manipulation"
   ]
  },
  {
   "cell_type": "code",
   "execution_count": 2,
   "metadata": {},
   "outputs": [],
   "source": [
    "df = pd.read_csv('/workspaces/NN_lec/raw_data/matches.csv')"
   ]
  },
  {
   "cell_type": "code",
   "execution_count": 3,
   "metadata": {},
   "outputs": [
    {
     "name": "stdout",
     "output_type": "stream",
     "text": [
      "<class 'pandas.core.frame.DataFrame'>\n",
      "RangeIndex: 4788 entries, 0 to 4787\n",
      "Data columns (total 28 columns):\n",
      " #   Column        Non-Null Count  Dtype  \n",
      "---  ------        --------------  -----  \n",
      " 0   Unnamed: 0    4788 non-null   int64  \n",
      " 1   date          4788 non-null   object \n",
      " 2   time          4788 non-null   object \n",
      " 3   comp          4788 non-null   object \n",
      " 4   round         4788 non-null   object \n",
      " 5   day           4788 non-null   object \n",
      " 6   venue         4788 non-null   object \n",
      " 7   result        4788 non-null   object \n",
      " 8   gf            4788 non-null   int64  \n",
      " 9   ga            4788 non-null   int64  \n",
      " 10  opponent      4788 non-null   object \n",
      " 11  xg            4788 non-null   float64\n",
      " 12  xga           4788 non-null   float64\n",
      " 13  poss          4788 non-null   int64  \n",
      " 14  attendance    3155 non-null   float64\n",
      " 15  captain       4788 non-null   object \n",
      " 16  formation     4788 non-null   object \n",
      " 17  referee       4788 non-null   object \n",
      " 18  match report  4788 non-null   object \n",
      " 19  notes         0 non-null      float64\n",
      " 20  sh            4788 non-null   int64  \n",
      " 21  sot           4788 non-null   int64  \n",
      " 22  dist          4786 non-null   float64\n",
      " 23  fk            4788 non-null   int64  \n",
      " 24  pk            4788 non-null   int64  \n",
      " 25  pkatt         4788 non-null   int64  \n",
      " 26  season        4788 non-null   int64  \n",
      " 27  team          4788 non-null   object \n",
      "dtypes: float64(5), int64(10), object(13)\n",
      "memory usage: 1.0+ MB\n"
     ]
    }
   ],
   "source": [
    "df.info()"
   ]
  },
  {
   "cell_type": "code",
   "execution_count": 4,
   "metadata": {},
   "outputs": [
    {
     "data": {
      "text/html": [
       "<div>\n",
       "<style scoped>\n",
       "    .dataframe tbody tr th:only-of-type {\n",
       "        vertical-align: middle;\n",
       "    }\n",
       "\n",
       "    .dataframe tbody tr th {\n",
       "        vertical-align: top;\n",
       "    }\n",
       "\n",
       "    .dataframe thead th {\n",
       "        text-align: right;\n",
       "    }\n",
       "</style>\n",
       "<table border=\"1\" class=\"dataframe\">\n",
       "  <thead>\n",
       "    <tr style=\"text-align: right;\">\n",
       "      <th></th>\n",
       "      <th>Unnamed: 0</th>\n",
       "      <th>date</th>\n",
       "      <th>time</th>\n",
       "      <th>comp</th>\n",
       "      <th>round</th>\n",
       "      <th>day</th>\n",
       "      <th>venue</th>\n",
       "      <th>result</th>\n",
       "      <th>gf</th>\n",
       "      <th>ga</th>\n",
       "      <th>opponent</th>\n",
       "      <th>xg</th>\n",
       "      <th>xga</th>\n",
       "      <th>poss</th>\n",
       "      <th>attendance</th>\n",
       "      <th>captain</th>\n",
       "      <th>formation</th>\n",
       "      <th>referee</th>\n",
       "      <th>match report</th>\n",
       "      <th>notes</th>\n",
       "      <th>sh</th>\n",
       "      <th>sot</th>\n",
       "      <th>dist</th>\n",
       "      <th>fk</th>\n",
       "      <th>pk</th>\n",
       "      <th>pkatt</th>\n",
       "      <th>season</th>\n",
       "      <th>team</th>\n",
       "    </tr>\n",
       "  </thead>\n",
       "  <tbody>\n",
       "    <tr>\n",
       "      <th>0</th>\n",
       "      <td>0</td>\n",
       "      <td>2020-09-21</td>\n",
       "      <td>20:15 (21:15)</td>\n",
       "      <td>Premier League</td>\n",
       "      <td>Matchweek 2</td>\n",
       "      <td>Mon</td>\n",
       "      <td>Away</td>\n",
       "      <td>W</td>\n",
       "      <td>3</td>\n",
       "      <td>1</td>\n",
       "      <td>Wolves</td>\n",
       "      <td>1.9</td>\n",
       "      <td>0.6</td>\n",
       "      <td>65</td>\n",
       "      <td>NaN</td>\n",
       "      <td>Fernandinho</td>\n",
       "      <td>4-2-3-1</td>\n",
       "      <td>Andre Marriner</td>\n",
       "      <td>Match Report</td>\n",
       "      <td>NaN</td>\n",
       "      <td>13</td>\n",
       "      <td>8</td>\n",
       "      <td>21.1</td>\n",
       "      <td>2</td>\n",
       "      <td>1</td>\n",
       "      <td>1</td>\n",
       "      <td>2024</td>\n",
       "      <td>Manchester City</td>\n",
       "    </tr>\n",
       "    <tr>\n",
       "      <th>1</th>\n",
       "      <td>2</td>\n",
       "      <td>2020-09-27</td>\n",
       "      <td>16:30 (17:30)</td>\n",
       "      <td>Premier League</td>\n",
       "      <td>Matchweek 3</td>\n",
       "      <td>Sun</td>\n",
       "      <td>Home</td>\n",
       "      <td>L</td>\n",
       "      <td>2</td>\n",
       "      <td>5</td>\n",
       "      <td>Leicester City</td>\n",
       "      <td>0.9</td>\n",
       "      <td>2.9</td>\n",
       "      <td>72</td>\n",
       "      <td>NaN</td>\n",
       "      <td>Fernandinho</td>\n",
       "      <td>4-2-3-1</td>\n",
       "      <td>Michael Oliver</td>\n",
       "      <td>Match Report</td>\n",
       "      <td>NaN</td>\n",
       "      <td>16</td>\n",
       "      <td>5</td>\n",
       "      <td>19.8</td>\n",
       "      <td>1</td>\n",
       "      <td>0</td>\n",
       "      <td>0</td>\n",
       "      <td>2024</td>\n",
       "      <td>Manchester City</td>\n",
       "    </tr>\n",
       "    <tr>\n",
       "      <th>2</th>\n",
       "      <td>4</td>\n",
       "      <td>2020-10-03</td>\n",
       "      <td>17:30 (18:30)</td>\n",
       "      <td>Premier League</td>\n",
       "      <td>Matchweek 4</td>\n",
       "      <td>Sat</td>\n",
       "      <td>Away</td>\n",
       "      <td>D</td>\n",
       "      <td>1</td>\n",
       "      <td>1</td>\n",
       "      <td>Leeds United</td>\n",
       "      <td>1.2</td>\n",
       "      <td>2.4</td>\n",
       "      <td>49</td>\n",
       "      <td>NaN</td>\n",
       "      <td>Kevin De Bruyne</td>\n",
       "      <td>4-3-3</td>\n",
       "      <td>Mike Dean</td>\n",
       "      <td>Match Report</td>\n",
       "      <td>NaN</td>\n",
       "      <td>23</td>\n",
       "      <td>1</td>\n",
       "      <td>18.2</td>\n",
       "      <td>1</td>\n",
       "      <td>0</td>\n",
       "      <td>0</td>\n",
       "      <td>2024</td>\n",
       "      <td>Manchester City</td>\n",
       "    </tr>\n",
       "    <tr>\n",
       "      <th>3</th>\n",
       "      <td>5</td>\n",
       "      <td>2020-10-17</td>\n",
       "      <td>17:30 (18:30)</td>\n",
       "      <td>Premier League</td>\n",
       "      <td>Matchweek 5</td>\n",
       "      <td>Sat</td>\n",
       "      <td>Home</td>\n",
       "      <td>W</td>\n",
       "      <td>1</td>\n",
       "      <td>0</td>\n",
       "      <td>Arsenal</td>\n",
       "      <td>1.3</td>\n",
       "      <td>0.9</td>\n",
       "      <td>58</td>\n",
       "      <td>NaN</td>\n",
       "      <td>Raheem Sterling</td>\n",
       "      <td>3-1-4-2</td>\n",
       "      <td>Chris Kavanagh</td>\n",
       "      <td>Match Report</td>\n",
       "      <td>NaN</td>\n",
       "      <td>13</td>\n",
       "      <td>5</td>\n",
       "      <td>17.7</td>\n",
       "      <td>0</td>\n",
       "      <td>0</td>\n",
       "      <td>0</td>\n",
       "      <td>2024</td>\n",
       "      <td>Manchester City</td>\n",
       "    </tr>\n",
       "    <tr>\n",
       "      <th>4</th>\n",
       "      <td>7</td>\n",
       "      <td>2020-10-24</td>\n",
       "      <td>12:30 (13:30)</td>\n",
       "      <td>Premier League</td>\n",
       "      <td>Matchweek 6</td>\n",
       "      <td>Sat</td>\n",
       "      <td>Away</td>\n",
       "      <td>D</td>\n",
       "      <td>1</td>\n",
       "      <td>1</td>\n",
       "      <td>West Ham</td>\n",
       "      <td>1.0</td>\n",
       "      <td>0.3</td>\n",
       "      <td>69</td>\n",
       "      <td>NaN</td>\n",
       "      <td>Raheem Sterling</td>\n",
       "      <td>4-3-3</td>\n",
       "      <td>Anthony Taylor</td>\n",
       "      <td>Match Report</td>\n",
       "      <td>NaN</td>\n",
       "      <td>14</td>\n",
       "      <td>7</td>\n",
       "      <td>20.9</td>\n",
       "      <td>1</td>\n",
       "      <td>0</td>\n",
       "      <td>0</td>\n",
       "      <td>2024</td>\n",
       "      <td>Manchester City</td>\n",
       "    </tr>\n",
       "  </tbody>\n",
       "</table>\n",
       "</div>"
      ],
      "text/plain": [
       "   Unnamed: 0        date           time            comp        round  day  \\\n",
       "0           0  2020-09-21  20:15 (21:15)  Premier League  Matchweek 2  Mon   \n",
       "1           2  2020-09-27  16:30 (17:30)  Premier League  Matchweek 3  Sun   \n",
       "2           4  2020-10-03  17:30 (18:30)  Premier League  Matchweek 4  Sat   \n",
       "3           5  2020-10-17  17:30 (18:30)  Premier League  Matchweek 5  Sat   \n",
       "4           7  2020-10-24  12:30 (13:30)  Premier League  Matchweek 6  Sat   \n",
       "\n",
       "  venue result  gf  ga        opponent   xg  xga  poss  attendance  \\\n",
       "0  Away      W   3   1          Wolves  1.9  0.6    65         NaN   \n",
       "1  Home      L   2   5  Leicester City  0.9  2.9    72         NaN   \n",
       "2  Away      D   1   1    Leeds United  1.2  2.4    49         NaN   \n",
       "3  Home      W   1   0         Arsenal  1.3  0.9    58         NaN   \n",
       "4  Away      D   1   1        West Ham  1.0  0.3    69         NaN   \n",
       "\n",
       "           captain formation         referee  match report  notes  sh  sot  \\\n",
       "0      Fernandinho   4-2-3-1  Andre Marriner  Match Report    NaN  13    8   \n",
       "1      Fernandinho   4-2-3-1  Michael Oliver  Match Report    NaN  16    5   \n",
       "2  Kevin De Bruyne     4-3-3       Mike Dean  Match Report    NaN  23    1   \n",
       "3  Raheem Sterling   3-1-4-2  Chris Kavanagh  Match Report    NaN  13    5   \n",
       "4  Raheem Sterling     4-3-3  Anthony Taylor  Match Report    NaN  14    7   \n",
       "\n",
       "   dist  fk  pk  pkatt  season             team  \n",
       "0  21.1   2   1      1    2024  Manchester City  \n",
       "1  19.8   1   0      0    2024  Manchester City  \n",
       "2  18.2   1   0      0    2024  Manchester City  \n",
       "3  17.7   0   0      0    2024  Manchester City  \n",
       "4  20.9   1   0      0    2024  Manchester City  "
      ]
     },
     "execution_count": 4,
     "metadata": {},
     "output_type": "execute_result"
    }
   ],
   "source": [
    "df.head()"
   ]
  },
  {
   "cell_type": "code",
   "execution_count": 5,
   "metadata": {},
   "outputs": [],
   "source": [
    "df.drop(columns=[\"Unnamed: 0\", \"comp\", \"round\", \"attendance\", \"match report\", \"notes\"], inplace=True)"
   ]
  },
  {
   "cell_type": "code",
   "execution_count": 6,
   "metadata": {},
   "outputs": [
    {
     "data": {
      "text/html": [
       "<div>\n",
       "<style scoped>\n",
       "    .dataframe tbody tr th:only-of-type {\n",
       "        vertical-align: middle;\n",
       "    }\n",
       "\n",
       "    .dataframe tbody tr th {\n",
       "        vertical-align: top;\n",
       "    }\n",
       "\n",
       "    .dataframe thead th {\n",
       "        text-align: right;\n",
       "    }\n",
       "</style>\n",
       "<table border=\"1\" class=\"dataframe\">\n",
       "  <thead>\n",
       "    <tr style=\"text-align: right;\">\n",
       "      <th></th>\n",
       "      <th>gf</th>\n",
       "      <th>ga</th>\n",
       "      <th>xg</th>\n",
       "      <th>xga</th>\n",
       "      <th>poss</th>\n",
       "      <th>sh</th>\n",
       "      <th>sot</th>\n",
       "      <th>dist</th>\n",
       "      <th>fk</th>\n",
       "      <th>pk</th>\n",
       "      <th>pkatt</th>\n",
       "      <th>season</th>\n",
       "    </tr>\n",
       "  </thead>\n",
       "  <tbody>\n",
       "    <tr>\n",
       "      <th>count</th>\n",
       "      <td>4788.000000</td>\n",
       "      <td>4788.000000</td>\n",
       "      <td>4788.000000</td>\n",
       "      <td>4788.000000</td>\n",
       "      <td>4788.000000</td>\n",
       "      <td>4788.000000</td>\n",
       "      <td>4788.000000</td>\n",
       "      <td>4786.000000</td>\n",
       "      <td>4788.000000</td>\n",
       "      <td>4788.000000</td>\n",
       "      <td>4788.00000</td>\n",
       "      <td>4788.000000</td>\n",
       "    </tr>\n",
       "    <tr>\n",
       "      <th>mean</th>\n",
       "      <td>1.447995</td>\n",
       "      <td>1.405388</td>\n",
       "      <td>1.396512</td>\n",
       "      <td>1.364745</td>\n",
       "      <td>50.432957</td>\n",
       "      <td>12.619256</td>\n",
       "      <td>4.261278</td>\n",
       "      <td>17.356247</td>\n",
       "      <td>0.453216</td>\n",
       "      <td>0.118212</td>\n",
       "      <td>0.14599</td>\n",
       "      <td>2022.365079</td>\n",
       "    </tr>\n",
       "    <tr>\n",
       "      <th>std</th>\n",
       "      <td>1.312635</td>\n",
       "      <td>1.286927</td>\n",
       "      <td>0.828847</td>\n",
       "      <td>0.814947</td>\n",
       "      <td>12.810958</td>\n",
       "      <td>5.548444</td>\n",
       "      <td>2.459963</td>\n",
       "      <td>3.049341</td>\n",
       "      <td>0.665250</td>\n",
       "      <td>0.342362</td>\n",
       "      <td>0.37937</td>\n",
       "      <td>1.461850</td>\n",
       "    </tr>\n",
       "    <tr>\n",
       "      <th>min</th>\n",
       "      <td>0.000000</td>\n",
       "      <td>0.000000</td>\n",
       "      <td>0.000000</td>\n",
       "      <td>0.000000</td>\n",
       "      <td>18.000000</td>\n",
       "      <td>0.000000</td>\n",
       "      <td>0.000000</td>\n",
       "      <td>5.300000</td>\n",
       "      <td>0.000000</td>\n",
       "      <td>0.000000</td>\n",
       "      <td>0.00000</td>\n",
       "      <td>2020.000000</td>\n",
       "    </tr>\n",
       "    <tr>\n",
       "      <th>25%</th>\n",
       "      <td>0.000000</td>\n",
       "      <td>0.000000</td>\n",
       "      <td>0.800000</td>\n",
       "      <td>0.700000</td>\n",
       "      <td>41.000000</td>\n",
       "      <td>9.000000</td>\n",
       "      <td>2.000000</td>\n",
       "      <td>15.400000</td>\n",
       "      <td>0.000000</td>\n",
       "      <td>0.000000</td>\n",
       "      <td>0.00000</td>\n",
       "      <td>2021.000000</td>\n",
       "    </tr>\n",
       "    <tr>\n",
       "      <th>50%</th>\n",
       "      <td>1.000000</td>\n",
       "      <td>1.000000</td>\n",
       "      <td>1.300000</td>\n",
       "      <td>1.200000</td>\n",
       "      <td>51.000000</td>\n",
       "      <td>12.000000</td>\n",
       "      <td>4.000000</td>\n",
       "      <td>17.200000</td>\n",
       "      <td>0.000000</td>\n",
       "      <td>0.000000</td>\n",
       "      <td>0.00000</td>\n",
       "      <td>2023.000000</td>\n",
       "    </tr>\n",
       "    <tr>\n",
       "      <th>75%</th>\n",
       "      <td>2.000000</td>\n",
       "      <td>2.000000</td>\n",
       "      <td>1.900000</td>\n",
       "      <td>1.800000</td>\n",
       "      <td>60.000000</td>\n",
       "      <td>16.000000</td>\n",
       "      <td>6.000000</td>\n",
       "      <td>19.100000</td>\n",
       "      <td>1.000000</td>\n",
       "      <td>0.000000</td>\n",
       "      <td>0.00000</td>\n",
       "      <td>2024.000000</td>\n",
       "    </tr>\n",
       "    <tr>\n",
       "      <th>max</th>\n",
       "      <td>9.000000</td>\n",
       "      <td>9.000000</td>\n",
       "      <td>7.000000</td>\n",
       "      <td>7.000000</td>\n",
       "      <td>82.000000</td>\n",
       "      <td>36.000000</td>\n",
       "      <td>15.000000</td>\n",
       "      <td>39.900000</td>\n",
       "      <td>4.000000</td>\n",
       "      <td>3.000000</td>\n",
       "      <td>3.00000</td>\n",
       "      <td>2024.000000</td>\n",
       "    </tr>\n",
       "  </tbody>\n",
       "</table>\n",
       "</div>"
      ],
      "text/plain": [
       "                gf           ga           xg          xga         poss  \\\n",
       "count  4788.000000  4788.000000  4788.000000  4788.000000  4788.000000   \n",
       "mean      1.447995     1.405388     1.396512     1.364745    50.432957   \n",
       "std       1.312635     1.286927     0.828847     0.814947    12.810958   \n",
       "min       0.000000     0.000000     0.000000     0.000000    18.000000   \n",
       "25%       0.000000     0.000000     0.800000     0.700000    41.000000   \n",
       "50%       1.000000     1.000000     1.300000     1.200000    51.000000   \n",
       "75%       2.000000     2.000000     1.900000     1.800000    60.000000   \n",
       "max       9.000000     9.000000     7.000000     7.000000    82.000000   \n",
       "\n",
       "                sh          sot         dist           fk           pk  \\\n",
       "count  4788.000000  4788.000000  4786.000000  4788.000000  4788.000000   \n",
       "mean     12.619256     4.261278    17.356247     0.453216     0.118212   \n",
       "std       5.548444     2.459963     3.049341     0.665250     0.342362   \n",
       "min       0.000000     0.000000     5.300000     0.000000     0.000000   \n",
       "25%       9.000000     2.000000    15.400000     0.000000     0.000000   \n",
       "50%      12.000000     4.000000    17.200000     0.000000     0.000000   \n",
       "75%      16.000000     6.000000    19.100000     1.000000     0.000000   \n",
       "max      36.000000    15.000000    39.900000     4.000000     3.000000   \n",
       "\n",
       "            pkatt       season  \n",
       "count  4788.00000  4788.000000  \n",
       "mean      0.14599  2022.365079  \n",
       "std       0.37937     1.461850  \n",
       "min       0.00000  2020.000000  \n",
       "25%       0.00000  2021.000000  \n",
       "50%       0.00000  2023.000000  \n",
       "75%       0.00000  2024.000000  \n",
       "max       3.00000  2024.000000  "
      ]
     },
     "execution_count": 6,
     "metadata": {},
     "output_type": "execute_result"
    }
   ],
   "source": [
    "df.describe()"
   ]
  },
  {
   "cell_type": "code",
   "execution_count": 7,
   "metadata": {},
   "outputs": [
    {
     "data": {
      "text/html": [
       "<div>\n",
       "<style scoped>\n",
       "    .dataframe tbody tr th:only-of-type {\n",
       "        vertical-align: middle;\n",
       "    }\n",
       "\n",
       "    .dataframe tbody tr th {\n",
       "        vertical-align: top;\n",
       "    }\n",
       "\n",
       "    .dataframe thead th {\n",
       "        text-align: right;\n",
       "    }\n",
       "</style>\n",
       "<table border=\"1\" class=\"dataframe\">\n",
       "  <thead>\n",
       "    <tr style=\"text-align: right;\">\n",
       "      <th></th>\n",
       "      <th>date</th>\n",
       "      <th>time</th>\n",
       "      <th>day</th>\n",
       "      <th>venue</th>\n",
       "      <th>result</th>\n",
       "      <th>gf</th>\n",
       "      <th>ga</th>\n",
       "      <th>opponent</th>\n",
       "      <th>xg</th>\n",
       "      <th>xga</th>\n",
       "      <th>poss</th>\n",
       "      <th>captain</th>\n",
       "      <th>formation</th>\n",
       "      <th>referee</th>\n",
       "      <th>sh</th>\n",
       "      <th>sot</th>\n",
       "      <th>dist</th>\n",
       "      <th>fk</th>\n",
       "      <th>pk</th>\n",
       "      <th>pkatt</th>\n",
       "      <th>season</th>\n",
       "      <th>team</th>\n",
       "    </tr>\n",
       "  </thead>\n",
       "  <tbody>\n",
       "    <tr>\n",
       "      <th>0</th>\n",
       "      <td>2020-09-21</td>\n",
       "      <td>20:15 (21:15)</td>\n",
       "      <td>Mon</td>\n",
       "      <td>Away</td>\n",
       "      <td>W</td>\n",
       "      <td>3</td>\n",
       "      <td>1</td>\n",
       "      <td>Wolves</td>\n",
       "      <td>1.9</td>\n",
       "      <td>0.6</td>\n",
       "      <td>65</td>\n",
       "      <td>Fernandinho</td>\n",
       "      <td>4-2-3-1</td>\n",
       "      <td>Andre Marriner</td>\n",
       "      <td>13</td>\n",
       "      <td>8</td>\n",
       "      <td>21.1</td>\n",
       "      <td>2</td>\n",
       "      <td>1</td>\n",
       "      <td>1</td>\n",
       "      <td>2024</td>\n",
       "      <td>Manchester City</td>\n",
       "    </tr>\n",
       "    <tr>\n",
       "      <th>1</th>\n",
       "      <td>2020-09-27</td>\n",
       "      <td>16:30 (17:30)</td>\n",
       "      <td>Sun</td>\n",
       "      <td>Home</td>\n",
       "      <td>L</td>\n",
       "      <td>2</td>\n",
       "      <td>5</td>\n",
       "      <td>Leicester City</td>\n",
       "      <td>0.9</td>\n",
       "      <td>2.9</td>\n",
       "      <td>72</td>\n",
       "      <td>Fernandinho</td>\n",
       "      <td>4-2-3-1</td>\n",
       "      <td>Michael Oliver</td>\n",
       "      <td>16</td>\n",
       "      <td>5</td>\n",
       "      <td>19.8</td>\n",
       "      <td>1</td>\n",
       "      <td>0</td>\n",
       "      <td>0</td>\n",
       "      <td>2024</td>\n",
       "      <td>Manchester City</td>\n",
       "    </tr>\n",
       "    <tr>\n",
       "      <th>2</th>\n",
       "      <td>2020-10-03</td>\n",
       "      <td>17:30 (18:30)</td>\n",
       "      <td>Sat</td>\n",
       "      <td>Away</td>\n",
       "      <td>D</td>\n",
       "      <td>1</td>\n",
       "      <td>1</td>\n",
       "      <td>Leeds United</td>\n",
       "      <td>1.2</td>\n",
       "      <td>2.4</td>\n",
       "      <td>49</td>\n",
       "      <td>Kevin De Bruyne</td>\n",
       "      <td>4-3-3</td>\n",
       "      <td>Mike Dean</td>\n",
       "      <td>23</td>\n",
       "      <td>1</td>\n",
       "      <td>18.2</td>\n",
       "      <td>1</td>\n",
       "      <td>0</td>\n",
       "      <td>0</td>\n",
       "      <td>2024</td>\n",
       "      <td>Manchester City</td>\n",
       "    </tr>\n",
       "    <tr>\n",
       "      <th>3</th>\n",
       "      <td>2020-10-17</td>\n",
       "      <td>17:30 (18:30)</td>\n",
       "      <td>Sat</td>\n",
       "      <td>Home</td>\n",
       "      <td>W</td>\n",
       "      <td>1</td>\n",
       "      <td>0</td>\n",
       "      <td>Arsenal</td>\n",
       "      <td>1.3</td>\n",
       "      <td>0.9</td>\n",
       "      <td>58</td>\n",
       "      <td>Raheem Sterling</td>\n",
       "      <td>3-1-4-2</td>\n",
       "      <td>Chris Kavanagh</td>\n",
       "      <td>13</td>\n",
       "      <td>5</td>\n",
       "      <td>17.7</td>\n",
       "      <td>0</td>\n",
       "      <td>0</td>\n",
       "      <td>0</td>\n",
       "      <td>2024</td>\n",
       "      <td>Manchester City</td>\n",
       "    </tr>\n",
       "    <tr>\n",
       "      <th>4</th>\n",
       "      <td>2020-10-24</td>\n",
       "      <td>12:30 (13:30)</td>\n",
       "      <td>Sat</td>\n",
       "      <td>Away</td>\n",
       "      <td>D</td>\n",
       "      <td>1</td>\n",
       "      <td>1</td>\n",
       "      <td>West Ham</td>\n",
       "      <td>1.0</td>\n",
       "      <td>0.3</td>\n",
       "      <td>69</td>\n",
       "      <td>Raheem Sterling</td>\n",
       "      <td>4-3-3</td>\n",
       "      <td>Anthony Taylor</td>\n",
       "      <td>14</td>\n",
       "      <td>7</td>\n",
       "      <td>20.9</td>\n",
       "      <td>1</td>\n",
       "      <td>0</td>\n",
       "      <td>0</td>\n",
       "      <td>2024</td>\n",
       "      <td>Manchester City</td>\n",
       "    </tr>\n",
       "  </tbody>\n",
       "</table>\n",
       "</div>"
      ],
      "text/plain": [
       "         date           time  day venue result  gf  ga        opponent   xg  \\\n",
       "0  2020-09-21  20:15 (21:15)  Mon  Away      W   3   1          Wolves  1.9   \n",
       "1  2020-09-27  16:30 (17:30)  Sun  Home      L   2   5  Leicester City  0.9   \n",
       "2  2020-10-03  17:30 (18:30)  Sat  Away      D   1   1    Leeds United  1.2   \n",
       "3  2020-10-17  17:30 (18:30)  Sat  Home      W   1   0         Arsenal  1.3   \n",
       "4  2020-10-24  12:30 (13:30)  Sat  Away      D   1   1        West Ham  1.0   \n",
       "\n",
       "   xga  poss          captain formation         referee  sh  sot  dist  fk  \\\n",
       "0  0.6    65      Fernandinho   4-2-3-1  Andre Marriner  13    8  21.1   2   \n",
       "1  2.9    72      Fernandinho   4-2-3-1  Michael Oliver  16    5  19.8   1   \n",
       "2  2.4    49  Kevin De Bruyne     4-3-3       Mike Dean  23    1  18.2   1   \n",
       "3  0.9    58  Raheem Sterling   3-1-4-2  Chris Kavanagh  13    5  17.7   0   \n",
       "4  0.3    69  Raheem Sterling     4-3-3  Anthony Taylor  14    7  20.9   1   \n",
       "\n",
       "   pk  pkatt  season             team  \n",
       "0   1      1    2024  Manchester City  \n",
       "1   0      0    2024  Manchester City  \n",
       "2   0      0    2024  Manchester City  \n",
       "3   0      0    2024  Manchester City  \n",
       "4   0      0    2024  Manchester City  "
      ]
     },
     "execution_count": 7,
     "metadata": {},
     "output_type": "execute_result"
    }
   ],
   "source": [
    "df.head()"
   ]
  },
  {
   "cell_type": "code",
   "execution_count": 8,
   "metadata": {},
   "outputs": [
    {
     "data": {
      "text/plain": [
       "date          object\n",
       "time          object\n",
       "day           object\n",
       "venue         object\n",
       "result        object\n",
       "gf             int64\n",
       "ga             int64\n",
       "opponent      object\n",
       "xg           float64\n",
       "xga          float64\n",
       "poss           int64\n",
       "captain       object\n",
       "formation     object\n",
       "referee       object\n",
       "sh             int64\n",
       "sot            int64\n",
       "dist         float64\n",
       "fk             int64\n",
       "pk             int64\n",
       "pkatt          int64\n",
       "season         int64\n",
       "team          object\n",
       "dtype: object"
      ]
     },
     "execution_count": 8,
     "metadata": {},
     "output_type": "execute_result"
    }
   ],
   "source": [
    "df.dtypes"
   ]
  },
  {
   "cell_type": "code",
   "execution_count": 9,
   "metadata": {},
   "outputs": [],
   "source": [
    "df['date'] = pd.to_datetime(df['date'])"
   ]
  },
  {
   "cell_type": "code",
   "execution_count": 10,
   "metadata": {},
   "outputs": [],
   "source": [
    "df['venue'] = df['venue'].astype('category')\n",
    "df['opponent'] = df['opponent'].astype('category')\n",
    "df['team'] = df['team'].astype('category')\n",
    "df['result'] = df['result'].astype('category')\n",
    "df['day'] = df['date'].dt.day_name()"
   ]
  },
  {
   "cell_type": "code",
   "execution_count": 11,
   "metadata": {},
   "outputs": [],
   "source": [
    "df[\"hour\"] = df[\"time\"].str.replace(\":.+\", \"\", regex=True).astype(\"int\")"
   ]
  },
  {
   "cell_type": "code",
   "execution_count": 12,
   "metadata": {},
   "outputs": [],
   "source": [
    "df[\"day_code\"] = df[\"date\"].dt.dayofweek"
   ]
  },
  {
   "cell_type": "code",
   "execution_count": 13,
   "metadata": {},
   "outputs": [
    {
     "data": {
      "text/plain": [
       "0"
      ]
     },
     "execution_count": 13,
     "metadata": {},
     "output_type": "execute_result"
    }
   ],
   "source": [
    "df.duplicated().sum()"
   ]
  },
  {
   "cell_type": "code",
   "execution_count": 14,
   "metadata": {},
   "outputs": [],
   "source": [
    "df.dropna(inplace=True)"
   ]
  },
  {
   "cell_type": "code",
   "execution_count": 15,
   "metadata": {},
   "outputs": [
    {
     "data": {
      "text/plain": [
       "formation\n",
       "4-2-3-1       1382\n",
       "4-3-3         1025\n",
       "4-4-2          581\n",
       "3-4-3          548\n",
       "3-5-2          266\n",
       "4-1-4-1        258\n",
       "4-4-1-1        141\n",
       "3-4-1-2        113\n",
       "5-3-2          107\n",
       "5-4-1           99\n",
       "4-5-1           49\n",
       "4-3-1-2         47\n",
       "4-1-2-1-2◆      35\n",
       "4-2-2-2         29\n",
       "3-1-4-2         25\n",
       "4-3-2-1         22\n",
       "3-2-4-1         21\n",
       "3-3-3-1         17\n",
       "3-5-1-1         14\n",
       "3-4-3◆           3\n",
       "4-1-3-2          2\n",
       "4-2-4-0          2\n",
       "Name: count, dtype: int64"
      ]
     },
     "execution_count": 15,
     "metadata": {},
     "output_type": "execute_result"
    }
   ],
   "source": [
    "df.formation.value_counts()"
   ]
  },
  {
   "cell_type": "code",
   "execution_count": 16,
   "metadata": {},
   "outputs": [],
   "source": [
    "df.formation = df.formation.str.replace(\"◆\", \"\")\n",
    "df.formation = df.formation.str.replace(\"-0\", \"\")"
   ]
  },
  {
   "cell_type": "code",
   "execution_count": 17,
   "metadata": {},
   "outputs": [
    {
     "data": {
      "text/plain": [
       "formation\n",
       "4-2-3-1      1382\n",
       "4-3-3        1025\n",
       "4-4-2         581\n",
       "3-4-3         551\n",
       "3-5-2         266\n",
       "4-1-4-1       258\n",
       "4-4-1-1       141\n",
       "3-4-1-2       113\n",
       "5-3-2         107\n",
       "5-4-1          99\n",
       "4-5-1          49\n",
       "4-3-1-2        47\n",
       "4-1-2-1-2      35\n",
       "4-2-2-2        29\n",
       "3-1-4-2        25\n",
       "4-3-2-1        22\n",
       "3-2-4-1        21\n",
       "3-3-3-1        17\n",
       "3-5-1-1        14\n",
       "4-1-3-2         2\n",
       "4-2-4           2\n",
       "Name: count, dtype: int64"
      ]
     },
     "execution_count": 17,
     "metadata": {},
     "output_type": "execute_result"
    }
   ],
   "source": [
    "df.formation.value_counts()"
   ]
  },
  {
   "cell_type": "code",
   "execution_count": 18,
   "metadata": {},
   "outputs": [
    {
     "data": {
      "text/plain": [
       "season\n",
       "2024    1519\n",
       "2023     988\n",
       "2022     760\n",
       "2020     760\n",
       "2021     759\n",
       "Name: count, dtype: int64"
      ]
     },
     "execution_count": 18,
     "metadata": {},
     "output_type": "execute_result"
    }
   ],
   "source": [
    "df['season'].value_counts()"
   ]
  },
  {
   "cell_type": "code",
   "execution_count": 19,
   "metadata": {},
   "outputs": [
    {
     "data": {
      "text/plain": [
       "987"
      ]
     },
     "execution_count": 19,
     "metadata": {},
     "output_type": "execute_result"
    }
   ],
   "source": [
    "df_cols = df.columns\n",
    "df_cols = df_cols.drop('season')\n",
    "\n",
    "df.duplicated(subset=df_cols).sum()"
   ]
  },
  {
   "cell_type": "code",
   "execution_count": 20,
   "metadata": {},
   "outputs": [],
   "source": [
    "df.drop_duplicates(subset=df_cols, inplace=True)"
   ]
  },
  {
   "cell_type": "code",
   "execution_count": 21,
   "metadata": {},
   "outputs": [
    {
     "data": {
      "text/plain": [
       "0"
      ]
     },
     "execution_count": 21,
     "metadata": {},
     "output_type": "execute_result"
    }
   ],
   "source": [
    "df.duplicated(subset=df_cols).sum()"
   ]
  },
  {
   "cell_type": "code",
   "execution_count": 22,
   "metadata": {},
   "outputs": [],
   "source": [
    "def correct_seasons(df):\n",
    "    def get_correct_season(date):\n",
    "        if isinstance(date, str):\n",
    "            date = pd.to_datetime(date)\n",
    "        if date.month >= 8:\n",
    "            return date.year + 1\n",
    "        else:\n",
    "            return date.year\n",
    "\n",
    "    df['season'] = df['date'].apply(get_correct_season)\n",
    "    return df"
   ]
  },
  {
   "cell_type": "code",
   "execution_count": 23,
   "metadata": {},
   "outputs": [
    {
     "data": {
      "text/plain": [
       "season\n",
       "2020    760\n",
       "2021    759\n",
       "2022    760\n",
       "2023    760\n",
       "2024    760\n",
       "Name: count, dtype: int64"
      ]
     },
     "execution_count": 23,
     "metadata": {},
     "output_type": "execute_result"
    }
   ],
   "source": [
    "df = correct_seasons(df)\n",
    "df['season'].value_counts().sort_index()"
   ]
  },
  {
   "cell_type": "code",
   "execution_count": 24,
   "metadata": {},
   "outputs": [],
   "source": [
    "df['points'] = df['result'].apply(lambda x: 3 if x == 'W' else 1 if x == 'D' else 0)"
   ]
  },
  {
   "cell_type": "code",
   "execution_count": 25,
   "metadata": {},
   "outputs": [],
   "source": [
    "df['points'] = df['points'].astype('int')"
   ]
  },
  {
   "cell_type": "code",
   "execution_count": 26,
   "metadata": {},
   "outputs": [],
   "source": [
    "winners = df.groupby(['season', 'team'], observed=False)['points'].sum().reset_index() \\\n",
    "  .sort_values(['season', 'points'], ascending=[True, False]) \\\n",
    "  .groupby('season', observed=False).first()"
   ]
  },
  {
   "cell_type": "code",
   "execution_count": 27,
   "metadata": {},
   "outputs": [
    {
     "data": {
      "text/html": [
       "<div>\n",
       "<style scoped>\n",
       "    .dataframe tbody tr th:only-of-type {\n",
       "        vertical-align: middle;\n",
       "    }\n",
       "\n",
       "    .dataframe tbody tr th {\n",
       "        vertical-align: top;\n",
       "    }\n",
       "\n",
       "    .dataframe thead th {\n",
       "        text-align: right;\n",
       "    }\n",
       "</style>\n",
       "<table border=\"1\" class=\"dataframe\">\n",
       "  <thead>\n",
       "    <tr style=\"text-align: right;\">\n",
       "      <th></th>\n",
       "      <th>team</th>\n",
       "      <th>points</th>\n",
       "    </tr>\n",
       "    <tr>\n",
       "      <th>season</th>\n",
       "      <th></th>\n",
       "      <th></th>\n",
       "    </tr>\n",
       "  </thead>\n",
       "  <tbody>\n",
       "    <tr>\n",
       "      <th>2020</th>\n",
       "      <td>Liverpool</td>\n",
       "      <td>99</td>\n",
       "    </tr>\n",
       "    <tr>\n",
       "      <th>2021</th>\n",
       "      <td>Manchester City</td>\n",
       "      <td>86</td>\n",
       "    </tr>\n",
       "    <tr>\n",
       "      <th>2022</th>\n",
       "      <td>Manchester City</td>\n",
       "      <td>93</td>\n",
       "    </tr>\n",
       "    <tr>\n",
       "      <th>2023</th>\n",
       "      <td>Manchester City</td>\n",
       "      <td>89</td>\n",
       "    </tr>\n",
       "    <tr>\n",
       "      <th>2024</th>\n",
       "      <td>Manchester City</td>\n",
       "      <td>91</td>\n",
       "    </tr>\n",
       "  </tbody>\n",
       "</table>\n",
       "</div>"
      ],
      "text/plain": [
       "                   team  points\n",
       "season                         \n",
       "2020          Liverpool      99\n",
       "2021    Manchester City      86\n",
       "2022    Manchester City      93\n",
       "2023    Manchester City      89\n",
       "2024    Manchester City      91"
      ]
     },
     "execution_count": 27,
     "metadata": {},
     "output_type": "execute_result"
    }
   ],
   "source": [
    "winners"
   ]
  },
  {
   "cell_type": "code",
   "execution_count": 28,
   "metadata": {},
   "outputs": [],
   "source": [
    "df['season_winner'] = df['season'].map(winners['team'])"
   ]
  },
  {
   "cell_type": "code",
   "execution_count": 29,
   "metadata": {},
   "outputs": [
    {
     "data": {
      "text/html": [
       "<div>\n",
       "<style scoped>\n",
       "    .dataframe tbody tr th:only-of-type {\n",
       "        vertical-align: middle;\n",
       "    }\n",
       "\n",
       "    .dataframe tbody tr th {\n",
       "        vertical-align: top;\n",
       "    }\n",
       "\n",
       "    .dataframe thead th {\n",
       "        text-align: right;\n",
       "    }\n",
       "</style>\n",
       "<table border=\"1\" class=\"dataframe\">\n",
       "  <thead>\n",
       "    <tr style=\"text-align: right;\">\n",
       "      <th></th>\n",
       "      <th>date</th>\n",
       "      <th>time</th>\n",
       "      <th>day</th>\n",
       "      <th>venue</th>\n",
       "      <th>result</th>\n",
       "      <th>gf</th>\n",
       "      <th>ga</th>\n",
       "      <th>opponent</th>\n",
       "      <th>xg</th>\n",
       "      <th>xga</th>\n",
       "      <th>poss</th>\n",
       "      <th>captain</th>\n",
       "      <th>formation</th>\n",
       "      <th>referee</th>\n",
       "      <th>sh</th>\n",
       "      <th>sot</th>\n",
       "      <th>dist</th>\n",
       "      <th>fk</th>\n",
       "      <th>pk</th>\n",
       "      <th>pkatt</th>\n",
       "      <th>season</th>\n",
       "      <th>team</th>\n",
       "      <th>hour</th>\n",
       "      <th>day_code</th>\n",
       "      <th>points</th>\n",
       "      <th>season_winner</th>\n",
       "    </tr>\n",
       "  </thead>\n",
       "  <tbody>\n",
       "    <tr>\n",
       "      <th>0</th>\n",
       "      <td>2020-09-21</td>\n",
       "      <td>20:15 (21:15)</td>\n",
       "      <td>Monday</td>\n",
       "      <td>Away</td>\n",
       "      <td>W</td>\n",
       "      <td>3</td>\n",
       "      <td>1</td>\n",
       "      <td>Wolves</td>\n",
       "      <td>1.9</td>\n",
       "      <td>0.6</td>\n",
       "      <td>65</td>\n",
       "      <td>Fernandinho</td>\n",
       "      <td>4-2-3-1</td>\n",
       "      <td>Andre Marriner</td>\n",
       "      <td>13</td>\n",
       "      <td>8</td>\n",
       "      <td>21.1</td>\n",
       "      <td>2</td>\n",
       "      <td>1</td>\n",
       "      <td>1</td>\n",
       "      <td>2021</td>\n",
       "      <td>Manchester City</td>\n",
       "      <td>20</td>\n",
       "      <td>0</td>\n",
       "      <td>3</td>\n",
       "      <td>Manchester City</td>\n",
       "    </tr>\n",
       "    <tr>\n",
       "      <th>1</th>\n",
       "      <td>2020-09-27</td>\n",
       "      <td>16:30 (17:30)</td>\n",
       "      <td>Sunday</td>\n",
       "      <td>Home</td>\n",
       "      <td>L</td>\n",
       "      <td>2</td>\n",
       "      <td>5</td>\n",
       "      <td>Leicester City</td>\n",
       "      <td>0.9</td>\n",
       "      <td>2.9</td>\n",
       "      <td>72</td>\n",
       "      <td>Fernandinho</td>\n",
       "      <td>4-2-3-1</td>\n",
       "      <td>Michael Oliver</td>\n",
       "      <td>16</td>\n",
       "      <td>5</td>\n",
       "      <td>19.8</td>\n",
       "      <td>1</td>\n",
       "      <td>0</td>\n",
       "      <td>0</td>\n",
       "      <td>2021</td>\n",
       "      <td>Manchester City</td>\n",
       "      <td>16</td>\n",
       "      <td>6</td>\n",
       "      <td>0</td>\n",
       "      <td>Manchester City</td>\n",
       "    </tr>\n",
       "    <tr>\n",
       "      <th>2</th>\n",
       "      <td>2020-10-03</td>\n",
       "      <td>17:30 (18:30)</td>\n",
       "      <td>Saturday</td>\n",
       "      <td>Away</td>\n",
       "      <td>D</td>\n",
       "      <td>1</td>\n",
       "      <td>1</td>\n",
       "      <td>Leeds United</td>\n",
       "      <td>1.2</td>\n",
       "      <td>2.4</td>\n",
       "      <td>49</td>\n",
       "      <td>Kevin De Bruyne</td>\n",
       "      <td>4-3-3</td>\n",
       "      <td>Mike Dean</td>\n",
       "      <td>23</td>\n",
       "      <td>1</td>\n",
       "      <td>18.2</td>\n",
       "      <td>1</td>\n",
       "      <td>0</td>\n",
       "      <td>0</td>\n",
       "      <td>2021</td>\n",
       "      <td>Manchester City</td>\n",
       "      <td>17</td>\n",
       "      <td>5</td>\n",
       "      <td>1</td>\n",
       "      <td>Manchester City</td>\n",
       "    </tr>\n",
       "    <tr>\n",
       "      <th>3</th>\n",
       "      <td>2020-10-17</td>\n",
       "      <td>17:30 (18:30)</td>\n",
       "      <td>Saturday</td>\n",
       "      <td>Home</td>\n",
       "      <td>W</td>\n",
       "      <td>1</td>\n",
       "      <td>0</td>\n",
       "      <td>Arsenal</td>\n",
       "      <td>1.3</td>\n",
       "      <td>0.9</td>\n",
       "      <td>58</td>\n",
       "      <td>Raheem Sterling</td>\n",
       "      <td>3-1-4-2</td>\n",
       "      <td>Chris Kavanagh</td>\n",
       "      <td>13</td>\n",
       "      <td>5</td>\n",
       "      <td>17.7</td>\n",
       "      <td>0</td>\n",
       "      <td>0</td>\n",
       "      <td>0</td>\n",
       "      <td>2021</td>\n",
       "      <td>Manchester City</td>\n",
       "      <td>17</td>\n",
       "      <td>5</td>\n",
       "      <td>3</td>\n",
       "      <td>Manchester City</td>\n",
       "    </tr>\n",
       "    <tr>\n",
       "      <th>4</th>\n",
       "      <td>2020-10-24</td>\n",
       "      <td>12:30 (13:30)</td>\n",
       "      <td>Saturday</td>\n",
       "      <td>Away</td>\n",
       "      <td>D</td>\n",
       "      <td>1</td>\n",
       "      <td>1</td>\n",
       "      <td>West Ham</td>\n",
       "      <td>1.0</td>\n",
       "      <td>0.3</td>\n",
       "      <td>69</td>\n",
       "      <td>Raheem Sterling</td>\n",
       "      <td>4-3-3</td>\n",
       "      <td>Anthony Taylor</td>\n",
       "      <td>14</td>\n",
       "      <td>7</td>\n",
       "      <td>20.9</td>\n",
       "      <td>1</td>\n",
       "      <td>0</td>\n",
       "      <td>0</td>\n",
       "      <td>2021</td>\n",
       "      <td>Manchester City</td>\n",
       "      <td>12</td>\n",
       "      <td>5</td>\n",
       "      <td>1</td>\n",
       "      <td>Manchester City</td>\n",
       "    </tr>\n",
       "  </tbody>\n",
       "</table>\n",
       "</div>"
      ],
      "text/plain": [
       "        date           time       day venue result  gf  ga        opponent  \\\n",
       "0 2020-09-21  20:15 (21:15)    Monday  Away      W   3   1          Wolves   \n",
       "1 2020-09-27  16:30 (17:30)    Sunday  Home      L   2   5  Leicester City   \n",
       "2 2020-10-03  17:30 (18:30)  Saturday  Away      D   1   1    Leeds United   \n",
       "3 2020-10-17  17:30 (18:30)  Saturday  Home      W   1   0         Arsenal   \n",
       "4 2020-10-24  12:30 (13:30)  Saturday  Away      D   1   1        West Ham   \n",
       "\n",
       "    xg  xga  poss          captain formation         referee  sh  sot  dist  \\\n",
       "0  1.9  0.6    65      Fernandinho   4-2-3-1  Andre Marriner  13    8  21.1   \n",
       "1  0.9  2.9    72      Fernandinho   4-2-3-1  Michael Oliver  16    5  19.8   \n",
       "2  1.2  2.4    49  Kevin De Bruyne     4-3-3       Mike Dean  23    1  18.2   \n",
       "3  1.3  0.9    58  Raheem Sterling   3-1-4-2  Chris Kavanagh  13    5  17.7   \n",
       "4  1.0  0.3    69  Raheem Sterling     4-3-3  Anthony Taylor  14    7  20.9   \n",
       "\n",
       "   fk  pk  pkatt  season             team  hour  day_code  points  \\\n",
       "0   2   1      1    2021  Manchester City    20         0       3   \n",
       "1   1   0      0    2021  Manchester City    16         6       0   \n",
       "2   1   0      0    2021  Manchester City    17         5       1   \n",
       "3   0   0      0    2021  Manchester City    17         5       3   \n",
       "4   1   0      0    2021  Manchester City    12         5       1   \n",
       "\n",
       "     season_winner  \n",
       "0  Manchester City  \n",
       "1  Manchester City  \n",
       "2  Manchester City  \n",
       "3  Manchester City  \n",
       "4  Manchester City  "
      ]
     },
     "execution_count": 29,
     "metadata": {},
     "output_type": "execute_result"
    }
   ],
   "source": [
    "df.head()"
   ]
  },
  {
   "cell_type": "code",
   "execution_count": 30,
   "metadata": {},
   "outputs": [
    {
     "data": {
      "text/plain": [
       "(3799, 26)"
      ]
     },
     "execution_count": 30,
     "metadata": {},
     "output_type": "execute_result"
    }
   ],
   "source": [
    "df.shape"
   ]
  },
  {
   "cell_type": "code",
   "execution_count": 31,
   "metadata": {},
   "outputs": [
    {
     "data": {
      "text/plain": [
       "season\n",
       "2020    760\n",
       "2024    760\n",
       "2023    760\n",
       "2022    760\n",
       "2021    759\n",
       "Name: count, dtype: int64"
      ]
     },
     "execution_count": 31,
     "metadata": {},
     "output_type": "execute_result"
    }
   ],
   "source": [
    "df['season'].value_counts()"
   ]
  },
  {
   "cell_type": "code",
   "execution_count": 32,
   "metadata": {},
   "outputs": [],
   "source": [
    "def captains_func(data):\n",
    "    if data['count'] == 0:\n",
    "        data['count'] = np.nan\n",
    "    return data"
   ]
  },
  {
   "cell_type": "code",
   "execution_count": 33,
   "metadata": {},
   "outputs": [
    {
     "data": {
      "text/html": [
       "<div>\n",
       "<style scoped>\n",
       "    .dataframe tbody tr th:only-of-type {\n",
       "        vertical-align: middle;\n",
       "    }\n",
       "\n",
       "    .dataframe tbody tr th {\n",
       "        vertical-align: top;\n",
       "    }\n",
       "\n",
       "    .dataframe thead th {\n",
       "        text-align: right;\n",
       "    }\n",
       "</style>\n",
       "<table border=\"1\" class=\"dataframe\">\n",
       "  <thead>\n",
       "    <tr style=\"text-align: right;\">\n",
       "      <th></th>\n",
       "      <th>team</th>\n",
       "      <th>captain</th>\n",
       "    </tr>\n",
       "  </thead>\n",
       "  <tbody>\n",
       "    <tr>\n",
       "      <th>0</th>\n",
       "      <td>Arsenal</td>\n",
       "      <td>Martin Ødegaard</td>\n",
       "    </tr>\n",
       "    <tr>\n",
       "      <th>1</th>\n",
       "      <td>Arsenal</td>\n",
       "      <td>Pierre-Emerick Aubameyang</td>\n",
       "    </tr>\n",
       "    <tr>\n",
       "      <th>2</th>\n",
       "      <td>Arsenal</td>\n",
       "      <td>Alexandre Lacazette</td>\n",
       "    </tr>\n",
       "    <tr>\n",
       "      <th>3</th>\n",
       "      <td>Arsenal</td>\n",
       "      <td>Granit Xhaka</td>\n",
       "    </tr>\n",
       "    <tr>\n",
       "      <th>4</th>\n",
       "      <td>Arsenal</td>\n",
       "      <td>Héctor Bellerín</td>\n",
       "    </tr>\n",
       "    <tr>\n",
       "      <th>...</th>\n",
       "      <td>...</td>\n",
       "      <td>...</td>\n",
       "    </tr>\n",
       "    <tr>\n",
       "      <th>4450</th>\n",
       "      <td>Wolverhampton Wanderers</td>\n",
       "      <td>Conor Coady</td>\n",
       "    </tr>\n",
       "    <tr>\n",
       "      <th>4451</th>\n",
       "      <td>Wolverhampton Wanderers</td>\n",
       "      <td>Max Kilman</td>\n",
       "    </tr>\n",
       "    <tr>\n",
       "      <th>4452</th>\n",
       "      <td>Wolverhampton Wanderers</td>\n",
       "      <td>Rúben Neves</td>\n",
       "    </tr>\n",
       "    <tr>\n",
       "      <th>4453</th>\n",
       "      <td>Wolverhampton Wanderers</td>\n",
       "      <td>João Moutinho</td>\n",
       "    </tr>\n",
       "    <tr>\n",
       "      <th>4454</th>\n",
       "      <td>Wolverhampton Wanderers</td>\n",
       "      <td>José Sá</td>\n",
       "    </tr>\n",
       "  </tbody>\n",
       "</table>\n",
       "<p>186 rows × 2 columns</p>\n",
       "</div>"
      ],
      "text/plain": [
       "                         team                    captain\n",
       "0                     Arsenal            Martin Ødegaard\n",
       "1                     Arsenal  Pierre-Emerick Aubameyang\n",
       "2                     Arsenal        Alexandre Lacazette\n",
       "3                     Arsenal               Granit Xhaka\n",
       "4                     Arsenal            Héctor Bellerín\n",
       "...                       ...                        ...\n",
       "4450  Wolverhampton Wanderers                Conor Coady\n",
       "4451  Wolverhampton Wanderers                 Max Kilman\n",
       "4452  Wolverhampton Wanderers                Rúben Neves\n",
       "4453  Wolverhampton Wanderers              João Moutinho\n",
       "4454  Wolverhampton Wanderers                    José Sá\n",
       "\n",
       "[186 rows x 2 columns]"
      ]
     },
     "execution_count": 33,
     "metadata": {},
     "output_type": "execute_result"
    }
   ],
   "source": [
    "group = df.groupby('team', observed=False)['captain'].value_counts().reset_index(name='count')\n",
    "group = group.apply(captains_func, axis=1)\n",
    "group.dropna(inplace=True)\n",
    "group = group.drop(columns='count')\n",
    "group"
   ]
  },
  {
   "cell_type": "code",
   "execution_count": 34,
   "metadata": {},
   "outputs": [
    {
     "data": {
      "text/plain": [
       "team\n",
       "Chelsea                     12\n",
       "Everton                     11\n",
       "Arsenal                     10\n",
       "Sheffield United             9\n",
       "Crystal Palace               9\n",
       "Tottenham Hotspur            8\n",
       "Newcastle United             8\n",
       "Manchester United            8\n",
       "Manchester City              8\n",
       "West Ham United              8\n",
       "Watford                      8\n",
       "Fulham                       7\n",
       "Leicester City               7\n",
       "Liverpool                    7\n",
       "Aston Villa                  7\n",
       "Brighton and Hove Albion     7\n",
       "Nottingham Forest            7\n",
       "Burnley                      6\n",
       "Brentford                    6\n",
       "Norwich City                 6\n",
       "Bournemouth                  6\n",
       "Wolverhampton Wanderers      5\n",
       "Leeds United                 5\n",
       "West Bromwich Albion         4\n",
       "Luton Town                   4\n",
       "Southampton                  3\n",
       "Name: count, dtype: int64"
      ]
     },
     "execution_count": 34,
     "metadata": {},
     "output_type": "execute_result"
    }
   ],
   "source": [
    "group['team'].value_counts()"
   ]
  },
  {
   "cell_type": "code",
   "execution_count": 35,
   "metadata": {},
   "outputs": [
    {
     "data": {
      "text/html": [
       "<div>\n",
       "<style scoped>\n",
       "    .dataframe tbody tr th:only-of-type {\n",
       "        vertical-align: middle;\n",
       "    }\n",
       "\n",
       "    .dataframe tbody tr th {\n",
       "        vertical-align: top;\n",
       "    }\n",
       "\n",
       "    .dataframe thead th {\n",
       "        text-align: right;\n",
       "    }\n",
       "</style>\n",
       "<table border=\"1\" class=\"dataframe\">\n",
       "  <thead>\n",
       "    <tr style=\"text-align: right;\">\n",
       "      <th></th>\n",
       "      <th>team</th>\n",
       "      <th>captain</th>\n",
       "    </tr>\n",
       "  </thead>\n",
       "  <tbody>\n",
       "    <tr>\n",
       "      <th>2136</th>\n",
       "      <td>Liverpool</td>\n",
       "      <td>Jordan Henderson</td>\n",
       "    </tr>\n",
       "    <tr>\n",
       "      <th>2137</th>\n",
       "      <td>Liverpool</td>\n",
       "      <td>Virgil van Dijk</td>\n",
       "    </tr>\n",
       "    <tr>\n",
       "      <th>2138</th>\n",
       "      <td>Liverpool</td>\n",
       "      <td>James Milner</td>\n",
       "    </tr>\n",
       "    <tr>\n",
       "      <th>2139</th>\n",
       "      <td>Liverpool</td>\n",
       "      <td>Georginio Wijnaldum</td>\n",
       "    </tr>\n",
       "    <tr>\n",
       "      <th>2140</th>\n",
       "      <td>Liverpool</td>\n",
       "      <td>Andrew Robertson</td>\n",
       "    </tr>\n",
       "    <tr>\n",
       "      <th>2141</th>\n",
       "      <td>Liverpool</td>\n",
       "      <td>Roberto Firmino</td>\n",
       "    </tr>\n",
       "    <tr>\n",
       "      <th>2142</th>\n",
       "      <td>Liverpool</td>\n",
       "      <td>Trent Alexander-Arnold</td>\n",
       "    </tr>\n",
       "  </tbody>\n",
       "</table>\n",
       "</div>"
      ],
      "text/plain": [
       "           team                 captain\n",
       "2136  Liverpool        Jordan Henderson\n",
       "2137  Liverpool         Virgil van Dijk\n",
       "2138  Liverpool            James Milner\n",
       "2139  Liverpool     Georginio Wijnaldum\n",
       "2140  Liverpool        Andrew Robertson\n",
       "2141  Liverpool         Roberto Firmino\n",
       "2142  Liverpool  Trent Alexander-Arnold"
      ]
     },
     "execution_count": 35,
     "metadata": {},
     "output_type": "execute_result"
    }
   ],
   "source": [
    "group[group['team'] == 'Liverpool']"
   ]
  },
  {
   "cell_type": "code",
   "execution_count": 36,
   "metadata": {},
   "outputs": [],
   "source": [
    "group.to_csv('captains.csv', index=False)"
   ]
  },
  {
   "cell_type": "markdown",
   "metadata": {},
   "source": [
    "## Preprocessing"
   ]
  },
  {
   "cell_type": "code",
   "execution_count": 37,
   "metadata": {},
   "outputs": [
    {
     "data": {
      "text/html": [
       "<div>\n",
       "<style scoped>\n",
       "    .dataframe tbody tr th:only-of-type {\n",
       "        vertical-align: middle;\n",
       "    }\n",
       "\n",
       "    .dataframe tbody tr th {\n",
       "        vertical-align: top;\n",
       "    }\n",
       "\n",
       "    .dataframe thead th {\n",
       "        text-align: right;\n",
       "    }\n",
       "</style>\n",
       "<table border=\"1\" class=\"dataframe\">\n",
       "  <thead>\n",
       "    <tr style=\"text-align: right;\">\n",
       "      <th></th>\n",
       "      <th>date</th>\n",
       "      <th>time</th>\n",
       "      <th>day</th>\n",
       "      <th>venue</th>\n",
       "      <th>result</th>\n",
       "      <th>gf</th>\n",
       "      <th>ga</th>\n",
       "      <th>opponent</th>\n",
       "      <th>xg</th>\n",
       "      <th>xga</th>\n",
       "      <th>poss</th>\n",
       "      <th>captain</th>\n",
       "      <th>formation</th>\n",
       "      <th>referee</th>\n",
       "      <th>sh</th>\n",
       "      <th>sot</th>\n",
       "      <th>dist</th>\n",
       "      <th>fk</th>\n",
       "      <th>pk</th>\n",
       "      <th>pkatt</th>\n",
       "      <th>season</th>\n",
       "      <th>team</th>\n",
       "      <th>hour</th>\n",
       "      <th>day_code</th>\n",
       "      <th>points</th>\n",
       "      <th>season_winner</th>\n",
       "    </tr>\n",
       "  </thead>\n",
       "  <tbody>\n",
       "    <tr>\n",
       "      <th>0</th>\n",
       "      <td>2020-09-21</td>\n",
       "      <td>20:15 (21:15)</td>\n",
       "      <td>Monday</td>\n",
       "      <td>Away</td>\n",
       "      <td>W</td>\n",
       "      <td>3</td>\n",
       "      <td>1</td>\n",
       "      <td>Wolves</td>\n",
       "      <td>1.9</td>\n",
       "      <td>0.6</td>\n",
       "      <td>65</td>\n",
       "      <td>Fernandinho</td>\n",
       "      <td>4-2-3-1</td>\n",
       "      <td>Andre Marriner</td>\n",
       "      <td>13</td>\n",
       "      <td>8</td>\n",
       "      <td>21.1</td>\n",
       "      <td>2</td>\n",
       "      <td>1</td>\n",
       "      <td>1</td>\n",
       "      <td>2021</td>\n",
       "      <td>Manchester City</td>\n",
       "      <td>20</td>\n",
       "      <td>0</td>\n",
       "      <td>3</td>\n",
       "      <td>Manchester City</td>\n",
       "    </tr>\n",
       "    <tr>\n",
       "      <th>1</th>\n",
       "      <td>2020-09-27</td>\n",
       "      <td>16:30 (17:30)</td>\n",
       "      <td>Sunday</td>\n",
       "      <td>Home</td>\n",
       "      <td>L</td>\n",
       "      <td>2</td>\n",
       "      <td>5</td>\n",
       "      <td>Leicester City</td>\n",
       "      <td>0.9</td>\n",
       "      <td>2.9</td>\n",
       "      <td>72</td>\n",
       "      <td>Fernandinho</td>\n",
       "      <td>4-2-3-1</td>\n",
       "      <td>Michael Oliver</td>\n",
       "      <td>16</td>\n",
       "      <td>5</td>\n",
       "      <td>19.8</td>\n",
       "      <td>1</td>\n",
       "      <td>0</td>\n",
       "      <td>0</td>\n",
       "      <td>2021</td>\n",
       "      <td>Manchester City</td>\n",
       "      <td>16</td>\n",
       "      <td>6</td>\n",
       "      <td>0</td>\n",
       "      <td>Manchester City</td>\n",
       "    </tr>\n",
       "    <tr>\n",
       "      <th>2</th>\n",
       "      <td>2020-10-03</td>\n",
       "      <td>17:30 (18:30)</td>\n",
       "      <td>Saturday</td>\n",
       "      <td>Away</td>\n",
       "      <td>D</td>\n",
       "      <td>1</td>\n",
       "      <td>1</td>\n",
       "      <td>Leeds United</td>\n",
       "      <td>1.2</td>\n",
       "      <td>2.4</td>\n",
       "      <td>49</td>\n",
       "      <td>Kevin De Bruyne</td>\n",
       "      <td>4-3-3</td>\n",
       "      <td>Mike Dean</td>\n",
       "      <td>23</td>\n",
       "      <td>1</td>\n",
       "      <td>18.2</td>\n",
       "      <td>1</td>\n",
       "      <td>0</td>\n",
       "      <td>0</td>\n",
       "      <td>2021</td>\n",
       "      <td>Manchester City</td>\n",
       "      <td>17</td>\n",
       "      <td>5</td>\n",
       "      <td>1</td>\n",
       "      <td>Manchester City</td>\n",
       "    </tr>\n",
       "    <tr>\n",
       "      <th>3</th>\n",
       "      <td>2020-10-17</td>\n",
       "      <td>17:30 (18:30)</td>\n",
       "      <td>Saturday</td>\n",
       "      <td>Home</td>\n",
       "      <td>W</td>\n",
       "      <td>1</td>\n",
       "      <td>0</td>\n",
       "      <td>Arsenal</td>\n",
       "      <td>1.3</td>\n",
       "      <td>0.9</td>\n",
       "      <td>58</td>\n",
       "      <td>Raheem Sterling</td>\n",
       "      <td>3-1-4-2</td>\n",
       "      <td>Chris Kavanagh</td>\n",
       "      <td>13</td>\n",
       "      <td>5</td>\n",
       "      <td>17.7</td>\n",
       "      <td>0</td>\n",
       "      <td>0</td>\n",
       "      <td>0</td>\n",
       "      <td>2021</td>\n",
       "      <td>Manchester City</td>\n",
       "      <td>17</td>\n",
       "      <td>5</td>\n",
       "      <td>3</td>\n",
       "      <td>Manchester City</td>\n",
       "    </tr>\n",
       "    <tr>\n",
       "      <th>4</th>\n",
       "      <td>2020-10-24</td>\n",
       "      <td>12:30 (13:30)</td>\n",
       "      <td>Saturday</td>\n",
       "      <td>Away</td>\n",
       "      <td>D</td>\n",
       "      <td>1</td>\n",
       "      <td>1</td>\n",
       "      <td>West Ham</td>\n",
       "      <td>1.0</td>\n",
       "      <td>0.3</td>\n",
       "      <td>69</td>\n",
       "      <td>Raheem Sterling</td>\n",
       "      <td>4-3-3</td>\n",
       "      <td>Anthony Taylor</td>\n",
       "      <td>14</td>\n",
       "      <td>7</td>\n",
       "      <td>20.9</td>\n",
       "      <td>1</td>\n",
       "      <td>0</td>\n",
       "      <td>0</td>\n",
       "      <td>2021</td>\n",
       "      <td>Manchester City</td>\n",
       "      <td>12</td>\n",
       "      <td>5</td>\n",
       "      <td>1</td>\n",
       "      <td>Manchester City</td>\n",
       "    </tr>\n",
       "  </tbody>\n",
       "</table>\n",
       "</div>"
      ],
      "text/plain": [
       "        date           time       day venue result  gf  ga        opponent  \\\n",
       "0 2020-09-21  20:15 (21:15)    Monday  Away      W   3   1          Wolves   \n",
       "1 2020-09-27  16:30 (17:30)    Sunday  Home      L   2   5  Leicester City   \n",
       "2 2020-10-03  17:30 (18:30)  Saturday  Away      D   1   1    Leeds United   \n",
       "3 2020-10-17  17:30 (18:30)  Saturday  Home      W   1   0         Arsenal   \n",
       "4 2020-10-24  12:30 (13:30)  Saturday  Away      D   1   1        West Ham   \n",
       "\n",
       "    xg  xga  poss          captain formation         referee  sh  sot  dist  \\\n",
       "0  1.9  0.6    65      Fernandinho   4-2-3-1  Andre Marriner  13    8  21.1   \n",
       "1  0.9  2.9    72      Fernandinho   4-2-3-1  Michael Oliver  16    5  19.8   \n",
       "2  1.2  2.4    49  Kevin De Bruyne     4-3-3       Mike Dean  23    1  18.2   \n",
       "3  1.3  0.9    58  Raheem Sterling   3-1-4-2  Chris Kavanagh  13    5  17.7   \n",
       "4  1.0  0.3    69  Raheem Sterling     4-3-3  Anthony Taylor  14    7  20.9   \n",
       "\n",
       "   fk  pk  pkatt  season             team  hour  day_code  points  \\\n",
       "0   2   1      1    2021  Manchester City    20         0       3   \n",
       "1   1   0      0    2021  Manchester City    16         6       0   \n",
       "2   1   0      0    2021  Manchester City    17         5       1   \n",
       "3   0   0      0    2021  Manchester City    17         5       3   \n",
       "4   1   0      0    2021  Manchester City    12         5       1   \n",
       "\n",
       "     season_winner  \n",
       "0  Manchester City  \n",
       "1  Manchester City  \n",
       "2  Manchester City  \n",
       "3  Manchester City  \n",
       "4  Manchester City  "
      ]
     },
     "execution_count": 37,
     "metadata": {},
     "output_type": "execute_result"
    }
   ],
   "source": [
    "df.head()"
   ]
  },
  {
   "cell_type": "code",
   "execution_count": 38,
   "metadata": {},
   "outputs": [
    {
     "data": {
      "text/plain": [
       "date             0\n",
       "time             0\n",
       "day              0\n",
       "venue            0\n",
       "result           0\n",
       "gf               0\n",
       "ga               0\n",
       "opponent         0\n",
       "xg               0\n",
       "xga              0\n",
       "poss             0\n",
       "captain          0\n",
       "formation        0\n",
       "referee          0\n",
       "sh               0\n",
       "sot              0\n",
       "dist             0\n",
       "fk               0\n",
       "pk               0\n",
       "pkatt            0\n",
       "season           0\n",
       "team             0\n",
       "hour             0\n",
       "day_code         0\n",
       "points           0\n",
       "season_winner    0\n",
       "dtype: int64"
      ]
     },
     "execution_count": 38,
     "metadata": {},
     "output_type": "execute_result"
    }
   ],
   "source": [
    "df.isna().sum()"
   ]
  },
  {
   "cell_type": "code",
   "execution_count": 39,
   "metadata": {},
   "outputs": [
    {
     "name": "stdout",
     "output_type": "stream",
     "text": [
      "<class 'pandas.core.frame.DataFrame'>\n",
      "Index: 3799 entries, 0 to 4787\n",
      "Data columns (total 26 columns):\n",
      " #   Column         Non-Null Count  Dtype         \n",
      "---  ------         --------------  -----         \n",
      " 0   date           3799 non-null   datetime64[ns]\n",
      " 1   time           3799 non-null   object        \n",
      " 2   day            3799 non-null   object        \n",
      " 3   venue          3799 non-null   category      \n",
      " 4   result         3799 non-null   category      \n",
      " 5   gf             3799 non-null   int64         \n",
      " 6   ga             3799 non-null   int64         \n",
      " 7   opponent       3799 non-null   category      \n",
      " 8   xg             3799 non-null   float64       \n",
      " 9   xga            3799 non-null   float64       \n",
      " 10  poss           3799 non-null   int64         \n",
      " 11  captain        3799 non-null   object        \n",
      " 12  formation      3799 non-null   object        \n",
      " 13  referee        3799 non-null   object        \n",
      " 14  sh             3799 non-null   int64         \n",
      " 15  sot            3799 non-null   int64         \n",
      " 16  dist           3799 non-null   float64       \n",
      " 17  fk             3799 non-null   int64         \n",
      " 18  pk             3799 non-null   int64         \n",
      " 19  pkatt          3799 non-null   int64         \n",
      " 20  season         3799 non-null   int64         \n",
      " 21  team           3799 non-null   category      \n",
      " 22  hour           3799 non-null   int64         \n",
      " 23  day_code       3799 non-null   int32         \n",
      " 24  points         3799 non-null   int64         \n",
      " 25  season_winner  3799 non-null   category      \n",
      "dtypes: category(5), datetime64[ns](1), float64(3), int32(1), int64(11), object(5)\n",
      "memory usage: 660.7+ KB\n"
     ]
    }
   ],
   "source": [
    "df.info()"
   ]
  },
  {
   "cell_type": "code",
   "execution_count": 40,
   "metadata": {},
   "outputs": [
    {
     "data": {
      "text/plain": [
       "Index(['date', 'time', 'day', 'venue', 'result', 'gf', 'ga', 'opponent', 'xg',\n",
       "       'xga', 'poss', 'captain', 'formation', 'referee', 'sh', 'sot', 'dist',\n",
       "       'fk', 'pk', 'pkatt', 'season', 'team', 'hour', 'day_code', 'points',\n",
       "       'season_winner'],\n",
       "      dtype='object')"
      ]
     },
     "execution_count": 40,
     "metadata": {},
     "output_type": "execute_result"
    }
   ],
   "source": [
    "df.columns"
   ]
  },
  {
   "cell_type": "code",
   "execution_count": 41,
   "metadata": {},
   "outputs": [
    {
     "name": "stdout",
     "output_type": "stream",
     "text": [
      "Data is correctly sorted by date for each team.\n"
     ]
    }
   ],
   "source": [
    "df['date'] = pd.to_datetime(df['date'])\n",
    "\n",
    "# Sort the DataFrame by team and date\n",
    "df_sorted = df.sort_values(['team', 'date'])\n",
    "\n",
    "# Reset the index to reflect the new order\n",
    "df_sorted = df_sorted.reset_index(drop=True)\n",
    "\n",
    "# Verify the sorting\n",
    "def verify_sorting(data):\n",
    "    # Check if dates are in ascending order for each team\n",
    "    is_sorted = data.groupby('team', observed=False)['date'].is_monotonic_increasing.all()\n",
    "    \n",
    "    if is_sorted:\n",
    "        print(\"Data is correctly sorted by date for each team.\")\n",
    "    else:\n",
    "        print(\"WARNING: Data is not correctly sorted. Please check for inconsistencies.\")\n",
    "\n",
    "# Run the verification\n",
    "verify_sorting(df_sorted)"
   ]
  },
  {
   "cell_type": "code",
   "execution_count": 42,
   "metadata": {},
   "outputs": [],
   "source": [
    "num_cols = ['sh', 'sot', 'dist', 'fk', 'pk', 'pkatt', 'xga', 'xg', 'gf', 'ga']\n",
    "for col in num_cols:\n",
    "    df_sorted[col] = pd.to_numeric(df_sorted[col])"
   ]
  },
  {
   "cell_type": "code",
   "execution_count": 43,
   "metadata": {},
   "outputs": [],
   "source": [
    "def calculate_fk_pk_ratios(data):\n",
    "    \"\"\"\n",
    "    Calculate ratios and percentages for free kicks and penalties.\n",
    "    \n",
    "    Parameters:\n",
    "    data (DataFrame): The input DataFrame containing 'fk', 'pk', 'pkatt', and 'sh' columns\n",
    "    \n",
    "    Returns:\n",
    "    DataFrame: The input DataFrame with additional columns for FK and PK ratios\n",
    "    \"\"\"\n",
    "    # Free Kick Ratio: Free Kicks / Total Shots\n",
    "    data['fk_ratio'] = data['fk'] / data['sh']\n",
    "    \n",
    "    # Penalty Conversion Rate: Penalties Scored / Penalties Attempted\n",
    "    data['pk_conversion_rate'] = data['pk'] / data['pkatt']\n",
    "    \n",
    "    # Penalties per Shot: Penalties Attempted / Total Shots\n",
    "    data['pk_per_shot'] = data['pkatt'] / data['sh']\n",
    "    \n",
    "    # Handle division by zero\n",
    "    data['fk_ratio'] = data['fk_ratio'].replace([np.inf, -np.inf], np.nan)\n",
    "    data['pk_conversion_rate'] = data['pk_conversion_rate'].replace([np.inf, -np.inf], np.nan)\n",
    "    data['pk_per_shot'] = data['pk_per_shot'].replace([np.inf, -np.inf], np.nan)\n",
    "    \n",
    "    # Convert to percentages\n",
    "    data['fk_percentage'] = data['fk_ratio'] * 100\n",
    "    data['pk_conversion_percentage'] = data['pk_conversion_rate'] * 100\n",
    "    data['pk_per_shot_percentage'] = data['pk_per_shot'] * 100\n",
    "    \n",
    "    return data"
   ]
  },
  {
   "cell_type": "code",
   "execution_count": 44,
   "metadata": {},
   "outputs": [],
   "source": [
    "df_sorted = calculate_fk_pk_ratios(df_sorted)"
   ]
  },
  {
   "cell_type": "code",
   "execution_count": 45,
   "metadata": {},
   "outputs": [],
   "source": [
    "df_sorted.drop(['pk_conversion_rate', 'pk_conversion_percentage'], axis=1, inplace=True)"
   ]
  },
  {
   "cell_type": "code",
   "execution_count": 46,
   "metadata": {},
   "outputs": [
    {
     "data": {
      "image/png": "[encoded data removed]",
      "text/plain": [
       "<Figure size 1200x600 with 4 Axes>"
      ]
     },
     "metadata": {},
     "output_type": "display_data"
    }
   ],
   "source": [
    "fig, axs = plt.subplots(2, 2, figsize=(12, 6))\n",
    "i = 0\n",
    "for col in ['fk_ratio', 'pk_per_shot', 'fk_percentage', 'pk_per_shot_percentage']:\n",
    "    sns.histplot(df_sorted[col], kde=True, ax=axs.flatten()[i])\n",
    "    axs.flatten()[i].set_title('Distribution of ' + col)\n",
    "    i += 1\n",
    "\n",
    "plt.tight_layout()\n",
    "plt.show()"
   ]
  },
  {
   "cell_type": "code",
   "execution_count": 47,
   "metadata": {},
   "outputs": [
    {
     "data": {
      "image/png": "[encoded data removed]",
      "text/plain": [
       "<Figure size 1200x600 with 4 Axes>"
      ]
     },
     "metadata": {},
     "output_type": "display_data"
    }
   ],
   "source": [
    "fig, axs = plt.subplots(2, 2, figsize=(12, 6))\n",
    "i = 0\n",
    "for col in ['fk_ratio', 'pk_per_shot', 'fk_percentage', 'pk_per_shot_percentage']:\n",
    "    sns.boxenplot(df_sorted[col], ax=axs.flatten()[i])\n",
    "    axs.flatten()[i].set_title('Distribution of ' + col)\n",
    "    i += 1\n",
    "\n",
    "plt.tight_layout()\n",
    "plt.show()"
   ]
  },
  {
   "cell_type": "code",
   "execution_count": 48,
   "metadata": {},
   "outputs": [
    {
     "data": {
      "text/html": [
       "<div>\n",
       "<style scoped>\n",
       "    .dataframe tbody tr th:only-of-type {\n",
       "        vertical-align: middle;\n",
       "    }\n",
       "\n",
       "    .dataframe tbody tr th {\n",
       "        vertical-align: top;\n",
       "    }\n",
       "\n",
       "    .dataframe thead th {\n",
       "        text-align: right;\n",
       "    }\n",
       "</style>\n",
       "<table border=\"1\" class=\"dataframe\">\n",
       "  <thead>\n",
       "    <tr style=\"text-align: right;\">\n",
       "      <th></th>\n",
       "      <th>date</th>\n",
       "      <th>time</th>\n",
       "      <th>day</th>\n",
       "      <th>venue</th>\n",
       "      <th>result</th>\n",
       "      <th>gf</th>\n",
       "      <th>ga</th>\n",
       "      <th>opponent</th>\n",
       "      <th>xg</th>\n",
       "      <th>xga</th>\n",
       "      <th>poss</th>\n",
       "      <th>captain</th>\n",
       "      <th>formation</th>\n",
       "      <th>referee</th>\n",
       "      <th>sh</th>\n",
       "      <th>sot</th>\n",
       "      <th>dist</th>\n",
       "      <th>fk</th>\n",
       "      <th>pk</th>\n",
       "      <th>pkatt</th>\n",
       "      <th>season</th>\n",
       "      <th>team</th>\n",
       "      <th>hour</th>\n",
       "      <th>day_code</th>\n",
       "      <th>points</th>\n",
       "      <th>season_winner</th>\n",
       "      <th>fk_ratio</th>\n",
       "      <th>pk_per_shot</th>\n",
       "      <th>fk_percentage</th>\n",
       "      <th>pk_per_shot_percentage</th>\n",
       "    </tr>\n",
       "  </thead>\n",
       "  <tbody>\n",
       "    <tr>\n",
       "      <th>0</th>\n",
       "      <td>2019-08-11</td>\n",
       "      <td>14:00 (15:00)</td>\n",
       "      <td>Sunday</td>\n",
       "      <td>Away</td>\n",
       "      <td>W</td>\n",
       "      <td>1</td>\n",
       "      <td>0</td>\n",
       "      <td>Newcastle Utd</td>\n",
       "      <td>1.1</td>\n",
       "      <td>0.4</td>\n",
       "      <td>62</td>\n",
       "      <td>Granit Xhaka</td>\n",
       "      <td>4-2-3-1</td>\n",
       "      <td>Martin Atkinson</td>\n",
       "      <td>8</td>\n",
       "      <td>2</td>\n",
       "      <td>13.9</td>\n",
       "      <td>0</td>\n",
       "      <td>0</td>\n",
       "      <td>0</td>\n",
       "      <td>2020</td>\n",
       "      <td>Arsenal</td>\n",
       "      <td>14</td>\n",
       "      <td>6</td>\n",
       "      <td>3</td>\n",
       "      <td>Liverpool</td>\n",
       "      <td>0.000000</td>\n",
       "      <td>0.0</td>\n",
       "      <td>0.000000</td>\n",
       "      <td>0.0</td>\n",
       "    </tr>\n",
       "    <tr>\n",
       "      <th>1</th>\n",
       "      <td>2019-08-17</td>\n",
       "      <td>12:30 (13:30)</td>\n",
       "      <td>Saturday</td>\n",
       "      <td>Home</td>\n",
       "      <td>W</td>\n",
       "      <td>2</td>\n",
       "      <td>1</td>\n",
       "      <td>Burnley</td>\n",
       "      <td>0.8</td>\n",
       "      <td>1.5</td>\n",
       "      <td>67</td>\n",
       "      <td>Nacho Monreal</td>\n",
       "      <td>4-2-3-1</td>\n",
       "      <td>Mike Dean</td>\n",
       "      <td>15</td>\n",
       "      <td>9</td>\n",
       "      <td>18.7</td>\n",
       "      <td>0</td>\n",
       "      <td>0</td>\n",
       "      <td>0</td>\n",
       "      <td>2020</td>\n",
       "      <td>Arsenal</td>\n",
       "      <td>12</td>\n",
       "      <td>5</td>\n",
       "      <td>3</td>\n",
       "      <td>Liverpool</td>\n",
       "      <td>0.000000</td>\n",
       "      <td>0.0</td>\n",
       "      <td>0.000000</td>\n",
       "      <td>0.0</td>\n",
       "    </tr>\n",
       "    <tr>\n",
       "      <th>2</th>\n",
       "      <td>2019-08-24</td>\n",
       "      <td>17:30 (18:30)</td>\n",
       "      <td>Saturday</td>\n",
       "      <td>Away</td>\n",
       "      <td>L</td>\n",
       "      <td>1</td>\n",
       "      <td>3</td>\n",
       "      <td>Liverpool</td>\n",
       "      <td>1.0</td>\n",
       "      <td>2.5</td>\n",
       "      <td>48</td>\n",
       "      <td>Granit Xhaka</td>\n",
       "      <td>4-3-1-2</td>\n",
       "      <td>Anthony Taylor</td>\n",
       "      <td>9</td>\n",
       "      <td>3</td>\n",
       "      <td>19.0</td>\n",
       "      <td>1</td>\n",
       "      <td>0</td>\n",
       "      <td>0</td>\n",
       "      <td>2020</td>\n",
       "      <td>Arsenal</td>\n",
       "      <td>17</td>\n",
       "      <td>5</td>\n",
       "      <td>0</td>\n",
       "      <td>Liverpool</td>\n",
       "      <td>0.111111</td>\n",
       "      <td>0.0</td>\n",
       "      <td>11.111111</td>\n",
       "      <td>0.0</td>\n",
       "    </tr>\n",
       "    <tr>\n",
       "      <th>3</th>\n",
       "      <td>2019-09-01</td>\n",
       "      <td>16:30 (17:30)</td>\n",
       "      <td>Sunday</td>\n",
       "      <td>Home</td>\n",
       "      <td>D</td>\n",
       "      <td>2</td>\n",
       "      <td>2</td>\n",
       "      <td>Tottenham</td>\n",
       "      <td>2.4</td>\n",
       "      <td>2.0</td>\n",
       "      <td>55</td>\n",
       "      <td>Granit Xhaka</td>\n",
       "      <td>4-3-3</td>\n",
       "      <td>Martin Atkinson</td>\n",
       "      <td>26</td>\n",
       "      <td>8</td>\n",
       "      <td>18.1</td>\n",
       "      <td>2</td>\n",
       "      <td>0</td>\n",
       "      <td>0</td>\n",
       "      <td>2020</td>\n",
       "      <td>Arsenal</td>\n",
       "      <td>16</td>\n",
       "      <td>6</td>\n",
       "      <td>1</td>\n",
       "      <td>Liverpool</td>\n",
       "      <td>0.076923</td>\n",
       "      <td>0.0</td>\n",
       "      <td>7.692308</td>\n",
       "      <td>0.0</td>\n",
       "    </tr>\n",
       "    <tr>\n",
       "      <th>4</th>\n",
       "      <td>2019-09-15</td>\n",
       "      <td>16:30 (17:30)</td>\n",
       "      <td>Sunday</td>\n",
       "      <td>Away</td>\n",
       "      <td>D</td>\n",
       "      <td>2</td>\n",
       "      <td>2</td>\n",
       "      <td>Watford</td>\n",
       "      <td>0.8</td>\n",
       "      <td>2.7</td>\n",
       "      <td>48</td>\n",
       "      <td>Granit Xhaka</td>\n",
       "      <td>4-1-2-1-2</td>\n",
       "      <td>Anthony Taylor</td>\n",
       "      <td>7</td>\n",
       "      <td>4</td>\n",
       "      <td>20.8</td>\n",
       "      <td>0</td>\n",
       "      <td>0</td>\n",
       "      <td>0</td>\n",
       "      <td>2020</td>\n",
       "      <td>Arsenal</td>\n",
       "      <td>16</td>\n",
       "      <td>6</td>\n",
       "      <td>1</td>\n",
       "      <td>Liverpool</td>\n",
       "      <td>0.000000</td>\n",
       "      <td>0.0</td>\n",
       "      <td>0.000000</td>\n",
       "      <td>0.0</td>\n",
       "    </tr>\n",
       "  </tbody>\n",
       "</table>\n",
       "</div>"
      ],
      "text/plain": [
       "        date           time       day venue result  gf  ga       opponent  \\\n",
       "0 2019-08-11  14:00 (15:00)    Sunday  Away      W   1   0  Newcastle Utd   \n",
       "1 2019-08-17  12:30 (13:30)  Saturday  Home      W   2   1        Burnley   \n",
       "2 2019-08-24  17:30 (18:30)  Saturday  Away      L   1   3      Liverpool   \n",
       "3 2019-09-01  16:30 (17:30)    Sunday  Home      D   2   2      Tottenham   \n",
       "4 2019-09-15  16:30 (17:30)    Sunday  Away      D   2   2        Watford   \n",
       "\n",
       "    xg  xga  poss        captain  formation          referee  sh  sot  dist  \\\n",
       "0  1.1  0.4    62   Granit Xhaka    4-2-3-1  Martin Atkinson   8    2  13.9   \n",
       "1  0.8  1.5    67  Nacho Monreal    4-2-3-1        Mike Dean  15    9  18.7   \n",
       "2  1.0  2.5    48   Granit Xhaka    4-3-1-2   Anthony Taylor   9    3  19.0   \n",
       "3  2.4  2.0    55   Granit Xhaka      4-3-3  Martin Atkinson  26    8  18.1   \n",
       "4  0.8  2.7    48   Granit Xhaka  4-1-2-1-2   Anthony Taylor   7    4  20.8   \n",
       "\n",
       "   fk  pk  pkatt  season     team  hour  day_code  points season_winner  \\\n",
       "0   0   0      0    2020  Arsenal    14         6       3     Liverpool   \n",
       "1   0   0      0    2020  Arsenal    12         5       3     Liverpool   \n",
       "2   1   0      0    2020  Arsenal    17         5       0     Liverpool   \n",
       "3   2   0      0    2020  Arsenal    16         6       1     Liverpool   \n",
       "4   0   0      0    2020  Arsenal    16         6       1     Liverpool   \n",
       "\n",
       "   fk_ratio  pk_per_shot  fk_percentage  pk_per_shot_percentage  \n",
       "0  0.000000          0.0       0.000000                     0.0  \n",
       "1  0.000000          0.0       0.000000                     0.0  \n",
       "2  0.111111          0.0      11.111111                     0.0  \n",
       "3  0.076923          0.0       7.692308                     0.0  \n",
       "4  0.000000          0.0       0.000000                     0.0  "
      ]
     },
     "execution_count": 48,
     "metadata": {},
     "output_type": "execute_result"
    }
   ],
   "source": [
    "df_sorted.head()"
   ]
  },
  {
   "cell_type": "code",
   "execution_count": 49,
   "metadata": {},
   "outputs": [],
   "source": [
    "def calculate_rolling_average(data, column, window=5):\n",
    "    \"\"\"\n",
    "    Calculate the rolling average of a column for each team.\n",
    "    \n",
    "    Parameters:\n",
    "    data (DataFrame): The input DataFrame\n",
    "    column (str): The column to calculate the rolling average for\n",
    "    window (int): The number of games to include in the rolling average\n",
    "    \n",
    "    Returns:\n",
    "    Series: The rolling average\n",
    "    \"\"\"\n",
    "    return data.groupby('team', observed=False)[column].transform(\n",
    "        lambda x: x.rolling(window=window, min_periods=1).mean()\n",
    "    )"
   ]
  },
  {
   "cell_type": "code",
   "execution_count": 50,
   "metadata": {},
   "outputs": [],
   "source": [
    "df_sorted['rolling_xg'] = calculate_rolling_average(df_sorted, 'xg')\n",
    "df_sorted['rolling_xga'] = calculate_rolling_average(df_sorted, 'xga')\n",
    "df_sorted['rolling_poss'] = calculate_rolling_average(df_sorted, 'poss')\n",
    "df_sorted['rolling_sh'] = calculate_rolling_average(df_sorted, 'sh')\n",
    "df_sorted['rolling_sot'] = calculate_rolling_average(df_sorted, 'sot')\n",
    "df_sorted['rolling_dist'] = calculate_rolling_average(df_sorted, 'dist')"
   ]
  },
  {
   "cell_type": "code",
   "execution_count": 51,
   "metadata": {},
   "outputs": [],
   "source": [
    "df_sorted['result_encoded'] = pd.to_numeric(df_sorted['result'].map({'W': 1, 'D': 0, 'L': -1}))\n",
    "df_sorted['form'] = calculate_rolling_average(df_sorted, 'result_encoded')"
   ]
  },
  {
   "cell_type": "code",
   "execution_count": 52,
   "metadata": {},
   "outputs": [],
   "source": [
    "df_sorted['goal_diff'] = df_sorted['gf'] - df_sorted['ga']\n",
    "df_sorted['rolling_goal_diff'] = calculate_rolling_average(df_sorted, 'goal_diff')"
   ]
  },
  {
   "cell_type": "code",
   "execution_count": 53,
   "metadata": {},
   "outputs": [],
   "source": [
    "def get_head_to_head(data):\n",
    "    \"\"\"\n",
    "    Calculate the head-to-head record against each opponent.\n",
    "    \n",
    "    Returns:\n",
    "    DataFrame: The original dataframe with an additional column for head-to-head record\n",
    "    \"\"\"\n",
    "    # Calculate the mean result for each team-opponent pair\n",
    "    h2h = data.groupby(['team', 'opponent'], observed=False)['result_encoded'].mean().reset_index()\n",
    "    \n",
    "    # Rename the mean column\n",
    "    h2h = h2h.rename(columns={'result_encoded': 'h2h_record'})\n",
    "    \n",
    "    # Merge the h2h data back to the original dataframe\n",
    "    result = pd.merge(data, h2h, on=['team', 'opponent'], how='left')\n",
    "    \n",
    "    return result"
   ]
  },
  {
   "cell_type": "code",
   "execution_count": 54,
   "metadata": {},
   "outputs": [],
   "source": [
    "df_sorted = get_head_to_head(df_sorted)\n",
    "\n",
    "# Convert date to day of week\n",
    "df_sorted['day_of_week'] = pd.to_datetime(df_sorted['date']).dt.dayofweek"
   ]
  },
  {
   "cell_type": "code",
   "execution_count": 55,
   "metadata": {},
   "outputs": [],
   "source": [
    "def categorize_time(time):\n",
    "    hour = pd.to_datetime(time).hour\n",
    "    if hour < 12:\n",
    "        return 'early'\n",
    "    elif hour < 17:\n",
    "        return 'afternoon'\n",
    "    else:\n",
    "        return 'evening'"
   ]
  },
  {
   "cell_type": "code",
   "execution_count": 56,
   "metadata": {},
   "outputs": [],
   "source": [
    "df_sorted['time'] = df_sorted['time'].apply(lambda x: x.split(' ')[0])\n",
    "df_sorted['time_condition'] = df_sorted['time'].apply(categorize_time)"
   ]
  },
  {
   "cell_type": "code",
   "execution_count": 57,
   "metadata": {},
   "outputs": [
    {
     "data": {
      "text/plain": [
       "time_condition\n",
       "afternoon    2337\n",
       "evening      1462\n",
       "Name: count, dtype: int64"
      ]
     },
     "execution_count": 57,
     "metadata": {},
     "output_type": "execute_result"
    }
   ],
   "source": [
    "df_sorted['time_condition'].value_counts()"
   ]
  },
  {
   "cell_type": "code",
   "execution_count": 58,
   "metadata": {},
   "outputs": [
    {
     "data": {
      "text/plain": [
       "team\n",
       "Arsenal                     190\n",
       "Liverpool                   190\n",
       "West Ham United             190\n",
       "Tottenham Hotspur           190\n",
       "Newcastle United            190\n",
       "Manchester United           190\n",
       "Manchester City             190\n",
       "Aston Villa                 190\n",
       "Wolverhampton Wanderers     190\n",
       "Everton                     190\n",
       "Chelsea                     190\n",
       "Brighton and Hove Albion    190\n",
       "Crystal Palace              189\n",
       "Leicester City              152\n",
       "Burnley                     152\n",
       "Southampton                 152\n",
       "Fulham                      114\n",
       "Leeds United                114\n",
       "Bournemouth                 114\n",
       "Sheffield United            114\n",
       "Brentford                   114\n",
       "Watford                      76\n",
       "Norwich City                 76\n",
       "Nottingham Forest            76\n",
       "West Bromwich Albion         38\n",
       "Luton Town                   38\n",
       "Name: date, dtype: int64"
      ]
     },
     "execution_count": 58,
     "metadata": {},
     "output_type": "execute_result"
    }
   ],
   "source": [
    "df_sorted.groupby('team', observed=False)['date'].count().sort_values(ascending=False)"
   ]
  },
  {
   "cell_type": "code",
   "execution_count": 59,
   "metadata": {},
   "outputs": [],
   "source": [
    "df_sorted['days_since_last_match'] = df_sorted.groupby('team', observed=False)['date'].diff().dt.days"
   ]
  },
  {
   "cell_type": "code",
   "execution_count": 60,
   "metadata": {},
   "outputs": [],
   "source": [
    "df_sorted['days_since_last_match'] = df_sorted['days_since_last_match'].fillna(0)"
   ]
  },
  {
   "cell_type": "code",
   "execution_count": 61,
   "metadata": {},
   "outputs": [],
   "source": [
    "df_sorted.to_csv('matches_final.csv', index=False)"
   ]
  },
  {
   "cell_type": "markdown",
   "metadata": {},
   "source": [
    "## Modeling"
   ]
  },
  {
   "cell_type": "code",
   "execution_count": 62,
   "metadata": {},
   "outputs": [],
   "source": [
    "columns_to_drop = ['gf', 'ga', 'xg', 'xga', 'poss', 'sh', 'sot', \n",
    "                   'goal_diff', 'day', 'pk', 'pkatt', 'fk', \n",
    "                   'referee', 'dist','points', 'season_winner', 'hour', 'result_encoded', 'day_code']\n",
    "df_sorted = df_sorted.drop(columns=columns_to_drop)"
   ]
  },
  {
   "cell_type": "code",
   "execution_count": 63,
   "metadata": {},
   "outputs": [
    {
     "data": {
      "text/html": [
       "<div>\n",
       "<style scoped>\n",
       "    .dataframe tbody tr th:only-of-type {\n",
       "        vertical-align: middle;\n",
       "    }\n",
       "\n",
       "    .dataframe tbody tr th {\n",
       "        vertical-align: top;\n",
       "    }\n",
       "\n",
       "    .dataframe thead th {\n",
       "        text-align: right;\n",
       "    }\n",
       "</style>\n",
       "<table border=\"1\" class=\"dataframe\">\n",
       "  <thead>\n",
       "    <tr style=\"text-align: right;\">\n",
       "      <th></th>\n",
       "      <th>date</th>\n",
       "      <th>time</th>\n",
       "      <th>venue</th>\n",
       "      <th>result</th>\n",
       "      <th>opponent</th>\n",
       "      <th>captain</th>\n",
       "      <th>formation</th>\n",
       "      <th>season</th>\n",
       "      <th>team</th>\n",
       "      <th>fk_ratio</th>\n",
       "      <th>pk_per_shot</th>\n",
       "      <th>fk_percentage</th>\n",
       "      <th>pk_per_shot_percentage</th>\n",
       "      <th>rolling_xg</th>\n",
       "      <th>rolling_xga</th>\n",
       "      <th>rolling_poss</th>\n",
       "      <th>rolling_sh</th>\n",
       "      <th>rolling_sot</th>\n",
       "      <th>rolling_dist</th>\n",
       "      <th>form</th>\n",
       "      <th>rolling_goal_diff</th>\n",
       "      <th>h2h_record</th>\n",
       "      <th>day_of_week</th>\n",
       "      <th>time_condition</th>\n",
       "      <th>days_since_last_match</th>\n",
       "    </tr>\n",
       "  </thead>\n",
       "  <tbody>\n",
       "    <tr>\n",
       "      <th>0</th>\n",
       "      <td>2019-08-11</td>\n",
       "      <td>14:00</td>\n",
       "      <td>Away</td>\n",
       "      <td>W</td>\n",
       "      <td>Newcastle Utd</td>\n",
       "      <td>Granit Xhaka</td>\n",
       "      <td>4-2-3-1</td>\n",
       "      <td>2020</td>\n",
       "      <td>Arsenal</td>\n",
       "      <td>0.000000</td>\n",
       "      <td>0.0</td>\n",
       "      <td>0.000000</td>\n",
       "      <td>0.0</td>\n",
       "      <td>1.100000</td>\n",
       "      <td>0.400000</td>\n",
       "      <td>62.0</td>\n",
       "      <td>8.000000</td>\n",
       "      <td>2.000000</td>\n",
       "      <td>13.900</td>\n",
       "      <td>1.000000</td>\n",
       "      <td>1.0</td>\n",
       "      <td>0.500</td>\n",
       "      <td>6</td>\n",
       "      <td>afternoon</td>\n",
       "      <td>0.0</td>\n",
       "    </tr>\n",
       "    <tr>\n",
       "      <th>1</th>\n",
       "      <td>2019-08-17</td>\n",
       "      <td>12:30</td>\n",
       "      <td>Home</td>\n",
       "      <td>W</td>\n",
       "      <td>Burnley</td>\n",
       "      <td>Nacho Monreal</td>\n",
       "      <td>4-2-3-1</td>\n",
       "      <td>2020</td>\n",
       "      <td>Arsenal</td>\n",
       "      <td>0.000000</td>\n",
       "      <td>0.0</td>\n",
       "      <td>0.000000</td>\n",
       "      <td>0.0</td>\n",
       "      <td>0.950000</td>\n",
       "      <td>0.950000</td>\n",
       "      <td>64.5</td>\n",
       "      <td>11.500000</td>\n",
       "      <td>5.500000</td>\n",
       "      <td>16.300</td>\n",
       "      <td>1.000000</td>\n",
       "      <td>1.0</td>\n",
       "      <td>0.375</td>\n",
       "      <td>5</td>\n",
       "      <td>afternoon</td>\n",
       "      <td>6.0</td>\n",
       "    </tr>\n",
       "    <tr>\n",
       "      <th>2</th>\n",
       "      <td>2019-08-24</td>\n",
       "      <td>17:30</td>\n",
       "      <td>Away</td>\n",
       "      <td>L</td>\n",
       "      <td>Liverpool</td>\n",
       "      <td>Granit Xhaka</td>\n",
       "      <td>4-3-1-2</td>\n",
       "      <td>2020</td>\n",
       "      <td>Arsenal</td>\n",
       "      <td>0.111111</td>\n",
       "      <td>0.0</td>\n",
       "      <td>11.111111</td>\n",
       "      <td>0.0</td>\n",
       "      <td>0.966667</td>\n",
       "      <td>1.466667</td>\n",
       "      <td>59.0</td>\n",
       "      <td>10.666667</td>\n",
       "      <td>4.666667</td>\n",
       "      <td>17.200</td>\n",
       "      <td>0.333333</td>\n",
       "      <td>0.0</td>\n",
       "      <td>-0.200</td>\n",
       "      <td>5</td>\n",
       "      <td>evening</td>\n",
       "      <td>7.0</td>\n",
       "    </tr>\n",
       "    <tr>\n",
       "      <th>3</th>\n",
       "      <td>2019-09-01</td>\n",
       "      <td>16:30</td>\n",
       "      <td>Home</td>\n",
       "      <td>D</td>\n",
       "      <td>Tottenham</td>\n",
       "      <td>Granit Xhaka</td>\n",
       "      <td>4-3-3</td>\n",
       "      <td>2020</td>\n",
       "      <td>Arsenal</td>\n",
       "      <td>0.076923</td>\n",
       "      <td>0.0</td>\n",
       "      <td>7.692308</td>\n",
       "      <td>0.0</td>\n",
       "      <td>1.325000</td>\n",
       "      <td>1.600000</td>\n",
       "      <td>58.0</td>\n",
       "      <td>14.500000</td>\n",
       "      <td>5.500000</td>\n",
       "      <td>17.425</td>\n",
       "      <td>0.250000</td>\n",
       "      <td>0.0</td>\n",
       "      <td>0.200</td>\n",
       "      <td>6</td>\n",
       "      <td>afternoon</td>\n",
       "      <td>8.0</td>\n",
       "    </tr>\n",
       "    <tr>\n",
       "      <th>4</th>\n",
       "      <td>2019-09-15</td>\n",
       "      <td>16:30</td>\n",
       "      <td>Away</td>\n",
       "      <td>D</td>\n",
       "      <td>Watford</td>\n",
       "      <td>Granit Xhaka</td>\n",
       "      <td>4-1-2-1-2</td>\n",
       "      <td>2020</td>\n",
       "      <td>Arsenal</td>\n",
       "      <td>0.000000</td>\n",
       "      <td>0.0</td>\n",
       "      <td>0.000000</td>\n",
       "      <td>0.0</td>\n",
       "      <td>1.220000</td>\n",
       "      <td>1.820000</td>\n",
       "      <td>56.0</td>\n",
       "      <td>13.000000</td>\n",
       "      <td>5.200000</td>\n",
       "      <td>18.100</td>\n",
       "      <td>0.200000</td>\n",
       "      <td>0.0</td>\n",
       "      <td>0.750</td>\n",
       "      <td>6</td>\n",
       "      <td>afternoon</td>\n",
       "      <td>14.0</td>\n",
       "    </tr>\n",
       "  </tbody>\n",
       "</table>\n",
       "</div>"
      ],
      "text/plain": [
       "        date   time venue result       opponent        captain  formation  \\\n",
       "0 2019-08-11  14:00  Away      W  Newcastle Utd   Granit Xhaka    4-2-3-1   \n",
       "1 2019-08-17  12:30  Home      W        Burnley  Nacho Monreal    4-2-3-1   \n",
       "2 2019-08-24  17:30  Away      L      Liverpool   Granit Xhaka    4-3-1-2   \n",
       "3 2019-09-01  16:30  Home      D      Tottenham   Granit Xhaka      4-3-3   \n",
       "4 2019-09-15  16:30  Away      D        Watford   Granit Xhaka  4-1-2-1-2   \n",
       "\n",
       "   season     team  fk_ratio  pk_per_shot  fk_percentage  \\\n",
       "0    2020  Arsenal  0.000000          0.0       0.000000   \n",
       "1    2020  Arsenal  0.000000          0.0       0.000000   \n",
       "2    2020  Arsenal  0.111111          0.0      11.111111   \n",
       "3    2020  Arsenal  0.076923          0.0       7.692308   \n",
       "4    2020  Arsenal  0.000000          0.0       0.000000   \n",
       "\n",
       "   pk_per_shot_percentage  rolling_xg  rolling_xga  rolling_poss  rolling_sh  \\\n",
       "0                     0.0    1.100000     0.400000          62.0    8.000000   \n",
       "1                     0.0    0.950000     0.950000          64.5   11.500000   \n",
       "2                     0.0    0.966667     1.466667          59.0   10.666667   \n",
       "3                     0.0    1.325000     1.600000          58.0   14.500000   \n",
       "4                     0.0    1.220000     1.820000          56.0   13.000000   \n",
       "\n",
       "   rolling_sot  rolling_dist      form  rolling_goal_diff  h2h_record  \\\n",
       "0     2.000000        13.900  1.000000                1.0       0.500   \n",
       "1     5.500000        16.300  1.000000                1.0       0.375   \n",
       "2     4.666667        17.200  0.333333                0.0      -0.200   \n",
       "3     5.500000        17.425  0.250000                0.0       0.200   \n",
       "4     5.200000        18.100  0.200000                0.0       0.750   \n",
       "\n",
       "   day_of_week time_condition  days_since_last_match  \n",
       "0            6      afternoon                    0.0  \n",
       "1            5      afternoon                    6.0  \n",
       "2            5        evening                    7.0  \n",
       "3            6      afternoon                    8.0  \n",
       "4            6      afternoon                   14.0  "
      ]
     },
     "execution_count": 63,
     "metadata": {},
     "output_type": "execute_result"
    }
   ],
   "source": [
    "df_sorted.head()"
   ]
  },
  {
   "cell_type": "code",
   "execution_count": 64,
   "metadata": {},
   "outputs": [
    {
     "data": {
      "text/plain": [
       "['fk_ratio',\n",
       " 'pk_per_shot',\n",
       " 'fk_percentage',\n",
       " 'pk_per_shot_percentage',\n",
       " 'rolling_xg',\n",
       " 'rolling_xga',\n",
       " 'rolling_poss',\n",
       " 'rolling_sh',\n",
       " 'rolling_sot',\n",
       " 'rolling_dist',\n",
       " 'form',\n",
       " 'rolling_goal_diff',\n",
       " 'h2h_record',\n",
       " 'day_of_week',\n",
       " 'days_since_last_match']"
      ]
     },
     "execution_count": 64,
     "metadata": {},
     "output_type": "execute_result"
    }
   ],
   "source": [
    "num_cols = df_sorted.select_dtypes(include=np.number).columns\n",
    "num_cols = num_cols.drop(['season']) \n",
    "num_cols = num_cols.tolist()\n",
    "num_cols"
   ]
  },
  {
   "cell_type": "code",
   "execution_count": 65,
   "metadata": {},
   "outputs": [
    {
     "data": {
      "text/plain": [
       "['time', 'venue', 'opponent', 'captain', 'formation', 'team', 'time_condition']"
      ]
     },
     "execution_count": 65,
     "metadata": {},
     "output_type": "execute_result"
    }
   ],
   "source": [
    "cat_cols = df_sorted.select_dtypes(exclude=np.number).columns\n",
    "cat_cols = cat_cols.drop(['result', 'date'])\n",
    "cat_cols = cat_cols.tolist()\n",
    "cat_cols"
   ]
  },
  {
   "cell_type": "code",
   "execution_count": 66,
   "metadata": {},
   "outputs": [
    {
     "data": {
      "text/plain": [
       "22"
      ]
     },
     "execution_count": 66,
     "metadata": {},
     "output_type": "execute_result"
    }
   ],
   "source": [
    "predictors = num_cols + cat_cols\n",
    "len(predictors)"
   ]
  },
  {
   "cell_type": "code",
   "execution_count": 67,
   "metadata": {},
   "outputs": [
    {
     "data": {
      "text/plain": [
       "['fk_ratio',\n",
       " 'pk_per_shot',\n",
       " 'fk_percentage',\n",
       " 'pk_per_shot_percentage',\n",
       " 'rolling_xg',\n",
       " 'rolling_xga',\n",
       " 'rolling_poss',\n",
       " 'rolling_sh',\n",
       " 'rolling_sot',\n",
       " 'rolling_dist',\n",
       " 'form',\n",
       " 'rolling_goal_diff',\n",
       " 'h2h_record',\n",
       " 'day_of_week',\n",
       " 'days_since_last_match',\n",
       " 'time',\n",
       " 'venue',\n",
       " 'opponent',\n",
       " 'captain',\n",
       " 'formation',\n",
       " 'team',\n",
       " 'time_condition']"
      ]
     },
     "execution_count": 67,
     "metadata": {},
     "output_type": "execute_result"
    }
   ],
   "source": [
    "predictors"
   ]
  },
  {
   "cell_type": "code",
   "execution_count": 68,
   "metadata": {},
   "outputs": [],
   "source": [
    "cat_pipeline = Pipeline(steps=[\n",
    "    ('onehot', OneHotEncoder(handle_unknown='ignore'))\n",
    "])\n",
    "\n",
    "num_pipeline = Pipeline(steps=[\n",
    "    ('scaler', StandardScaler())\n",
    "])\n",
    "\n",
    "\n",
    "preprocessor = ColumnTransformer(\n",
    "    transformers=[\n",
    "        ('num', num_pipeline, num_cols),\n",
    "        ('cat', cat_pipeline, cat_cols)\n",
    "    ])"
   ]
  },
  {
   "cell_type": "markdown",
   "metadata": {},
   "source": [
    "## Binary Classification (Win, Loss)"
   ]
  },
  {
   "cell_type": "code",
   "execution_count": 69,
   "metadata": {},
   "outputs": [],
   "source": [
    "df_sorted_binary = df_sorted.copy()\n",
    "\n",
    "df_sorted_binary['result'] = df_sorted_binary['result'].apply(lambda x: 1 if x == 'W' else 0)"
   ]
  },
  {
   "cell_type": "code",
   "execution_count": 70,
   "metadata": {},
   "outputs": [],
   "source": [
    "for col in df_sorted_binary.select_dtypes(include='object').columns:\n",
    "    df_sorted_binary[col] = df_sorted_binary[col].astype('category')"
   ]
  },
  {
   "cell_type": "code",
   "execution_count": 71,
   "metadata": {},
   "outputs": [],
   "source": [
    "train_binary = df_sorted_binary[df_sorted_binary[\"season\"] <= 2023]\n",
    "test_binary = df_sorted_binary[df_sorted_binary[\"season\"] > 2023]"
   ]
  },
  {
   "cell_type": "code",
   "execution_count": 72,
   "metadata": {},
   "outputs": [
    {
     "data": {
      "text/plain": [
       "((3039, 25), (760, 25))"
      ]
     },
     "execution_count": 72,
     "metadata": {},
     "output_type": "execute_result"
    }
   ],
   "source": [
    "train_binary.shape, test_binary.shape"
   ]
  },
  {
   "cell_type": "markdown",
   "metadata": {},
   "source": [
    "## NN model - LSTM"
   ]
  },
  {
   "cell_type": "code",
   "execution_count": 73,
   "metadata": {},
   "outputs": [],
   "source": [
    "train_binary_preprocessed = preprocessor.fit_transform(train_binary[predictors]).toarray()\n",
    "test_binary_preprocessed = preprocessor.transform(test_binary[predictors]).toarray()"
   ]
  },
  {
   "cell_type": "code",
   "execution_count": 74,
   "metadata": {},
   "outputs": [
    {
     "name": "stderr",
     "output_type": "stream",
     "text": [
      "2024-09-30 05:51:50.821998: I external/local_xla/xla/tsl/cuda/cudart_stub.cc:32] Could not find cuda drivers on your machine, GPU will not be used.\n",
      "2024-09-30 05:51:50.825148: I external/local_xla/xla/tsl/cuda/cudart_stub.cc:32] Could not find cuda drivers on your machine, GPU will not be used.\n",
      "2024-09-30 05:51:50.833498: E external/local_xla/xla/stream_executor/cuda/cuda_fft.cc:485] Unable to register cuFFT factory: Attempting to register factory for plugin cuFFT when one has already been registered\n",
      "2024-09-30 05:51:50.848058: E external/local_xla/xla/stream_executor/cuda/cuda_dnn.cc:8454] Unable to register cuDNN factory: Attempting to register factory for plugin cuDNN when one has already been registered\n",
      "2024-09-30 05:51:50.852248: E external/local_xla/xla/stream_executor/cuda/cuda_blas.cc:1452] Unable to register cuBLAS factory: Attempting to register factory for plugin cuBLAS when one has already been registered\n",
      "2024-09-30 05:51:50.864574: I tensorflow/core/platform/cpu_feature_guard.cc:210] This TensorFlow binary is optimized to use available CPU instructions in performance-critical operations.\n",
      "To enable the following instructions: AVX2 FMA, in other operations, rebuild TensorFlow with the appropriate compiler flags.\n",
      "2024-09-30 05:51:52.164885: W tensorflow/compiler/tf2tensorrt/utils/py_utils.cc:38] TF-TRT Warning: Could not find TensorRT\n"
     ]
    }
   ],
   "source": [
    "import keras\n",
    "from keras.models import Sequential\n",
    "from keras.layers import LSTM, Dense, Dropout\n",
    "from sklearn.model_selection import train_test_split\n",
    "import tensorflow as tf\n",
    "import numpy as np\n",
    "import random\n",
    "\n",
    "seed_value = 42\n",
    "np.random.seed(seed_value)\n",
    "random.seed(seed_value)\n",
    "tf.random.set_seed(seed_value)\n",
    "\n",
    "# Transform data from 2-dimensional to 3-dimensional (batch size, time step, number of features)\n",
    "X_train = train_binary_preprocessed.reshape((train_binary_preprocessed.shape[0], 1, train_binary_preprocessed.shape[1]))\n",
    "\n",
    "X_train, X_test, y_train, y_test = train_test_split(X_train, train_binary['result'], test_size=0.2, random_state=seed_value)\n",
    "\n",
    "# LSTM\n",
    "model = Sequential()\n",
    "\n",
    "model.add(LSTM(128, input_shape=(X_train.shape[1], X_train.shape[2]), return_sequences=True))\n",
    "model.add(Dropout(0.5))\n",
    "\n",
    "model.add(LSTM(128, return_sequences=True))\n",
    "model.add(Dropout(0.4))\n",
    "\n",
    "model.add(LSTM(16))\n",
    "model.add(Dropout(0.4))\n",
    "\n",
    "model.add(Dense(1, activation='relu'))\n",
    "\n",
    "model.compile(optimizer='adam', loss='binary_crossentropy', metrics=['accuracy'])"
   ]
  },
  {
   "cell_type": "code",
   "execution_count": 75,
   "metadata": {},
   "outputs": [
    {
     "data": {
      "text/html": [
       "<pre style=\"white-space:pre;overflow-x:auto;line-height:normal;font-family:Menlo,'DejaVu Sans Mono',consolas,'Courier New',monospace\"><span style=\"font-weight: bold\">Model: \"sequential\"</span>\n",
       "</pre>\n"
      ],
      "text/plain": [
       "\u001b[1mModel: \"sequential\"\u001b[0m\n"
      ]
     },
     "metadata": {},
     "output_type": "display_data"
    },
    {
     "data": {
      "text/html": [
       "<pre style=\"white-space:pre;overflow-x:auto;line-height:normal;font-family:Menlo,'DejaVu Sans Mono',consolas,'Courier New',monospace\">┏━━━━━━━━━━━━━━━━━━━━━━━━━━━━━━━━━┳━━━━━━━━━━━━━━━━━━━━━━━━┳━━━━━━━━━━━━━━━┓\n",
       "┃<span style=\"font-weight: bold\"> Layer (type)                    </span>┃<span style=\"font-weight: bold\"> Output Shape           </span>┃<span style=\"font-weight: bold\">       Param # </span>┃\n",
       "┡━━━━━━━━━━━━━━━━━━━━━━━━━━━━━━━━━╇━━━━━━━━━━━━━━━━━━━━━━━━╇━━━━━━━━━━━━━━━┩\n",
       "│ lstm (<span style=\"color: #0087ff; text-decoration-color: #0087ff\">LSTM</span>)                     │ (<span style=\"color: #00d7ff; text-decoration-color: #00d7ff\">None</span>, <span style=\"color: #00af00; text-decoration-color: #00af00\">1</span>, <span style=\"color: #00af00; text-decoration-color: #00af00\">128</span>)         │       <span style=\"color: #00af00; text-decoration-color: #00af00\">195,584</span> │\n",
       "├─────────────────────────────────┼────────────────────────┼───────────────┤\n",
       "│ dropout (<span style=\"color: #0087ff; text-decoration-color: #0087ff\">Dropout</span>)               │ (<span style=\"color: #00d7ff; text-decoration-color: #00d7ff\">None</span>, <span style=\"color: #00af00; text-decoration-color: #00af00\">1</span>, <span style=\"color: #00af00; text-decoration-color: #00af00\">128</span>)         │             <span style=\"color: #00af00; text-decoration-color: #00af00\">0</span> │\n",
       "├─────────────────────────────────┼────────────────────────┼───────────────┤\n",
       "│ lstm_1 (<span style=\"color: #0087ff; text-decoration-color: #0087ff\">LSTM</span>)                   │ (<span style=\"color: #00d7ff; text-decoration-color: #00d7ff\">None</span>, <span style=\"color: #00af00; text-decoration-color: #00af00\">1</span>, <span style=\"color: #00af00; text-decoration-color: #00af00\">128</span>)         │       <span style=\"color: #00af00; text-decoration-color: #00af00\">131,584</span> │\n",
       "├─────────────────────────────────┼────────────────────────┼───────────────┤\n",
       "│ dropout_1 (<span style=\"color: #0087ff; text-decoration-color: #0087ff\">Dropout</span>)             │ (<span style=\"color: #00d7ff; text-decoration-color: #00d7ff\">None</span>, <span style=\"color: #00af00; text-decoration-color: #00af00\">1</span>, <span style=\"color: #00af00; text-decoration-color: #00af00\">128</span>)         │             <span style=\"color: #00af00; text-decoration-color: #00af00\">0</span> │\n",
       "├─────────────────────────────────┼────────────────────────┼───────────────┤\n",
       "│ lstm_2 (<span style=\"color: #0087ff; text-decoration-color: #0087ff\">LSTM</span>)                   │ (<span style=\"color: #00d7ff; text-decoration-color: #00d7ff\">None</span>, <span style=\"color: #00af00; text-decoration-color: #00af00\">16</span>)             │         <span style=\"color: #00af00; text-decoration-color: #00af00\">9,280</span> │\n",
       "├─────────────────────────────────┼────────────────────────┼───────────────┤\n",
       "│ dropout_2 (<span style=\"color: #0087ff; text-decoration-color: #0087ff\">Dropout</span>)             │ (<span style=\"color: #00d7ff; text-decoration-color: #00d7ff\">None</span>, <span style=\"color: #00af00; text-decoration-color: #00af00\">16</span>)             │             <span style=\"color: #00af00; text-decoration-color: #00af00\">0</span> │\n",
       "├─────────────────────────────────┼────────────────────────┼───────────────┤\n",
       "│ dense (<span style=\"color: #0087ff; text-decoration-color: #0087ff\">Dense</span>)                   │ (<span style=\"color: #00d7ff; text-decoration-color: #00d7ff\">None</span>, <span style=\"color: #00af00; text-decoration-color: #00af00\">1</span>)              │            <span style=\"color: #00af00; text-decoration-color: #00af00\">17</span> │\n",
       "└─────────────────────────────────┴────────────────────────┴───────────────┘\n",
       "</pre>\n"
      ],
      "text/plain": [
       "┏━━━━━━━━━━━━━━━━━━━━━━━━━━━━━━━━━┳━━━━━━━━━━━━━━━━━━━━━━━━┳━━━━━━━━━━━━━━━┓\n",
       "┃\u001b[1m \u001b[0m\u001b[1mLayer (type)                   \u001b[0m\u001b[1m \u001b[0m┃\u001b[1m \u001b[0m\u001b[1mOutput Shape          \u001b[0m\u001b[1m \u001b[0m┃\u001b[1m \u001b[0m\u001b[1m      Param #\u001b[0m\u001b[1m \u001b[0m┃\n",
       "┡━━━━━━━━━━━━━━━━━━━━━━━━━━━━━━━━━╇━━━━━━━━━━━━━━━━━━━━━━━━╇━━━━━━━━━━━━━━━┩\n",
       "│ lstm (\u001b[38;5;33mLSTM\u001b[0m)                     │ (\u001b[38;5;45mNone\u001b[0m, \u001b[38;5;34m1\u001b[0m, \u001b[38;5;34m128\u001b[0m)         │       \u001b[38;5;34m195,584\u001b[0m │\n",
       "├─────────────────────────────────┼────────────────────────┼───────────────┤\n",
       "│ dropout (\u001b[38;5;33mDropout\u001b[0m)               │ (\u001b[38;5;45mNone\u001b[0m, \u001b[38;5;34m1\u001b[0m, \u001b[38;5;34m128\u001b[0m)         │             \u001b[38;5;34m0\u001b[0m │\n",
       "├─────────────────────────────────┼────────────────────────┼───────────────┤\n",
       "│ lstm_1 (\u001b[38;5;33mLSTM\u001b[0m)                   │ (\u001b[38;5;45mNone\u001b[0m, \u001b[38;5;34m1\u001b[0m, \u001b[38;5;34m128\u001b[0m)         │       \u001b[38;5;34m131,584\u001b[0m │\n",
       "├─────────────────────────────────┼────────────────────────┼───────────────┤\n",
       "│ dropout_1 (\u001b[38;5;33mDropout\u001b[0m)             │ (\u001b[38;5;45mNone\u001b[0m, \u001b[38;5;34m1\u001b[0m, \u001b[38;5;34m128\u001b[0m)         │             \u001b[38;5;34m0\u001b[0m │\n",
       "├─────────────────────────────────┼────────────────────────┼───────────────┤\n",
       "│ lstm_2 (\u001b[38;5;33mLSTM\u001b[0m)                   │ (\u001b[38;5;45mNone\u001b[0m, \u001b[38;5;34m16\u001b[0m)             │         \u001b[38;5;34m9,280\u001b[0m │\n",
       "├─────────────────────────────────┼────────────────────────┼───────────────┤\n",
       "│ dropout_2 (\u001b[38;5;33mDropout\u001b[0m)             │ (\u001b[38;5;45mNone\u001b[0m, \u001b[38;5;34m16\u001b[0m)             │             \u001b[38;5;34m0\u001b[0m │\n",
       "├─────────────────────────────────┼────────────────────────┼───────────────┤\n",
       "│ dense (\u001b[38;5;33mDense\u001b[0m)                   │ (\u001b[38;5;45mNone\u001b[0m, \u001b[38;5;34m1\u001b[0m)              │            \u001b[38;5;34m17\u001b[0m │\n",
       "└─────────────────────────────────┴────────────────────────┴───────────────┘\n"
      ]
     },
     "metadata": {},
     "output_type": "display_data"
    },
    {
     "data": {
      "text/html": [
       "<pre style=\"white-space:pre;overflow-x:auto;line-height:normal;font-family:Menlo,'DejaVu Sans Mono',consolas,'Courier New',monospace\"><span style=\"font-weight: bold\"> Total params: </span><span style=\"color: #00af00; text-decoration-color: #00af00\">336,465</span> (1.28 MB)\n",
       "</pre>\n"
      ],
      "text/plain": [
       "\u001b[1m Total params: \u001b[0m\u001b[38;5;34m336,465\u001b[0m (1.28 MB)\n"
      ]
     },
     "metadata": {},
     "output_type": "display_data"
    },
    {
     "data": {
      "text/html": [
       "<pre style=\"white-space:pre;overflow-x:auto;line-height:normal;font-family:Menlo,'DejaVu Sans Mono',consolas,'Courier New',monospace\"><span style=\"font-weight: bold\"> Trainable params: </span><span style=\"color: #00af00; text-decoration-color: #00af00\">336,465</span> (1.28 MB)\n",
       "</pre>\n"
      ],
      "text/plain": [
       "\u001b[1m Trainable params: \u001b[0m\u001b[38;5;34m336,465\u001b[0m (1.28 MB)\n"
      ]
     },
     "metadata": {},
     "output_type": "display_data"
    },
    {
     "data": {
      "text/html": [
       "<pre style=\"white-space:pre;overflow-x:auto;line-height:normal;font-family:Menlo,'DejaVu Sans Mono',consolas,'Courier New',monospace\"><span style=\"font-weight: bold\"> Non-trainable params: </span><span style=\"color: #00af00; text-decoration-color: #00af00\">0</span> (0.00 B)\n",
       "</pre>\n"
      ],
      "text/plain": [
       "\u001b[1m Non-trainable params: \u001b[0m\u001b[38;5;34m0\u001b[0m (0.00 B)\n"
      ]
     },
     "metadata": {},
     "output_type": "display_data"
    }
   ],
   "source": [
    "model.summary()"
   ]
  },
  {
   "cell_type": "code",
   "execution_count": 76,
   "metadata": {},
   "outputs": [
    {
     "name": "stdout",
     "output_type": "stream",
     "text": [
      "Epoch 1/10\n"
     ]
    },
    {
     "name": "stdout",
     "output_type": "stream",
     "text": [
      "\u001b[1m25/25\u001b[0m \u001b[32m━━━━━━━━━━━━━━━━━━━━\u001b[0m\u001b[37m\u001b[0m \u001b[1m4s\u001b[0m 24ms/step - accuracy: 0.6342 - loss: 2.0107 - val_accuracy: 0.5888 - val_loss: 0.9983 - learning_rate: 0.0010\n",
      "Epoch 2/10\n",
      "\u001b[1m25/25\u001b[0m \u001b[32m━━━━━━━━━━━━━━━━━━━━\u001b[0m\u001b[37m\u001b[0m \u001b[1m0s\u001b[0m 8ms/step - accuracy: 0.6344 - loss: 0.8365 - val_accuracy: 0.5905 - val_loss: 0.7307 - learning_rate: 0.0010\n",
      "Epoch 3/10\n",
      "\u001b[1m25/25\u001b[0m \u001b[32m━━━━━━━━━━━━━━━━━━━━\u001b[0m\u001b[37m\u001b[0m \u001b[1m0s\u001b[0m 10ms/step - accuracy: 0.6654 - loss: 0.6316 - val_accuracy: 0.7007 - val_loss: 0.5521 - learning_rate: 0.0010\n",
      "Epoch 4/10\n",
      "\u001b[1m25/25\u001b[0m \u001b[32m━━━━━━━━━━━━━━━━━━━━\u001b[0m\u001b[37m\u001b[0m \u001b[1m0s\u001b[0m 10ms/step - accuracy: 0.7211 - loss: 0.5845 - val_accuracy: 0.7089 - val_loss: 0.5348 - learning_rate: 0.0010\n",
      "Epoch 5/10\n",
      "\u001b[1m25/25\u001b[0m \u001b[32m━━━━━━━━━━━━━━━━━━━━\u001b[0m\u001b[37m\u001b[0m \u001b[1m0s\u001b[0m 7ms/step - accuracy: 0.7382 - loss: 0.5555 - val_accuracy: 0.6842 - val_loss: 0.5631 - learning_rate: 0.0010\n",
      "Epoch 6/10\n",
      "\u001b[1m25/25\u001b[0m \u001b[32m━━━━━━━━━━━━━━━━━━━━\u001b[0m\u001b[37m\u001b[0m \u001b[1m0s\u001b[0m 7ms/step - accuracy: 0.7317 - loss: 0.5195 - val_accuracy: 0.7204 - val_loss: 0.5319 - learning_rate: 0.0010\n",
      "Epoch 7/10\n",
      "\u001b[1m25/25\u001b[0m \u001b[32m━━━━━━━━━━━━━━━━━━━━\u001b[0m\u001b[37m\u001b[0m \u001b[1m0s\u001b[0m 8ms/step - accuracy: 0.7423 - loss: 0.5368 - val_accuracy: 0.7155 - val_loss: 0.5367 - learning_rate: 0.0010\n",
      "Epoch 8/10\n",
      "\u001b[1m25/25\u001b[0m \u001b[32m━━━━━━━━━━━━━━━━━━━━\u001b[0m\u001b[37m\u001b[0m \u001b[1m0s\u001b[0m 7ms/step - accuracy: 0.7563 - loss: 0.5072 - val_accuracy: 0.7303 - val_loss: 0.5475 - learning_rate: 0.0010\n",
      "Epoch 9/10\n",
      "\u001b[1m25/25\u001b[0m \u001b[32m━━━━━━━━━━━━━━━━━━━━\u001b[0m\u001b[37m\u001b[0m \u001b[1m0s\u001b[0m 8ms/step - accuracy: 0.7492 - loss: 0.5419 - val_accuracy: 0.7270 - val_loss: 0.5477 - learning_rate: 0.0010\n",
      "Epoch 10/10\n",
      "\u001b[1m25/25\u001b[0m \u001b[32m━━━━━━━━━━━━━━━━━━━━\u001b[0m\u001b[37m\u001b[0m \u001b[1m0s\u001b[0m 8ms/step - accuracy: 0.7691 - loss: 0.4834 - val_accuracy: 0.7336 - val_loss: 0.5483 - learning_rate: 0.0010\n"
     ]
    },
    {
     "data": {
      "text/plain": [
       "<keras.src.callbacks.history.History at 0x781af303e7e0>"
      ]
     },
     "execution_count": 76,
     "metadata": {},
     "output_type": "execute_result"
    }
   ],
   "source": [
    "early_stopping = keras.callbacks.EarlyStopping(monitor='val_loss', patience=10, restore_best_weights=True)\n",
    "reduce_lr = keras.callbacks.ReduceLROnPlateau(monitor='val_loss', factor=0.5, patience=5, min_lr=0.001)\n",
    "\n",
    "# training\n",
    "model.fit(X_train, y_train, epochs=10, batch_size=100, validation_data=(X_test, y_test), callbacks=[early_stopping, reduce_lr])"
   ]
  },
  {
   "cell_type": "code",
   "execution_count": 77,
   "metadata": {},
   "outputs": [
    {
     "name": "stdout",
     "output_type": "stream",
     "text": [
      "\u001b[1m19/19\u001b[0m \u001b[32m━━━━━━━━━━━━━━━━━━━━\u001b[0m\u001b[37m\u001b[0m \u001b[1m0s\u001b[0m 2ms/step - accuracy: 0.6983 - loss: 0.5552 \n",
      "Accuracy: 72.04%\n"
     ]
    }
   ],
   "source": [
    "# evaluation\n",
    "_, acc = model.evaluate(X_test, y_test)\n",
    "print(f'Accuracy: {acc * 100:.2f}%')"
   ]
  },
  {
   "cell_type": "markdown",
   "metadata": {},
   "source": [
    "### Visualization"
   ]
  },
  {
   "cell_type": "code",
   "execution_count": 78,
   "metadata": {},
   "outputs": [
    {
     "name": "stdout",
     "output_type": "stream",
     "text": [
      "\u001b[1m19/19\u001b[0m \u001b[32m━━━━━━━━━━━━━━━━━━━━\u001b[0m\u001b[37m\u001b[0m \u001b[1m0s\u001b[0m 1ms/step  \n"
     ]
    },
    {
     "data": {
      "image/png": "[encoded data removed]",
      "text/plain": [
       "<Figure size 600x400 with 1 Axes>"
      ]
     },
     "metadata": {},
     "output_type": "display_data"
    }
   ],
   "source": [
    "import numpy as np\n",
    "import matplotlib.pyplot as plt\n",
    "import seaborn as sns\n",
    "from sklearn.metrics import confusion_matrix\n",
    "\n",
    "y_pred = model.predict(X_test)\n",
    "y_pred = (y_pred > 0.5).astype(int)\n",
    "\n",
    "cm = confusion_matrix(y_test, y_pred)\n",
    "\n",
    "plt.figure(figsize=(6, 4))\n",
    "sns.heatmap(cm, annot=True, fmt='d', cmap='Blues', cbar=False)\n",
    "\n",
    "plt.xlabel('Predicted', fontsize=12, fontweight='bold')\n",
    "plt.ylabel('Actual', fontsize=12, fontweight='bold')\n",
    "plt.title('Confusion Matrix', fontsize=14, fontweight='bold')\n",
    "plt.show()"
   ]
  },
  {
   "cell_type": "code",
   "execution_count": null,
   "metadata": {},
   "outputs": [],
   "source": []
  }
 ],
 "metadata": {
  "kernelspec": {
   "display_name": "Python 3",
   "language": "python",
   "name": "python3"
  },
  "language_info": {
   "codemirror_mode": {
    "name": "ipython",
    "version": 3
   },
   "file_extension": ".py",
   "mimetype": "text/x-python",
   "name": "python",
   "nbconvert_exporter": "python",
   "pygments_lexer": "ipython3",
   "version": "3.12.1"
  }
 },
 "nbformat": 4,
 "nbformat_minor": 2
}
